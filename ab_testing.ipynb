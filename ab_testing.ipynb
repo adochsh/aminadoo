{
 "cells": [
  {
   "cell_type": "code",
   "execution_count": 20,
   "id": "faeadf13",
   "metadata": {},
   "outputs": [
    {
     "data": {
      "text/plain": [
       "'/Users/amina/Downloads/data'"
      ]
     },
     "execution_count": 20,
     "metadata": {},
     "output_type": "execute_result"
    }
   ],
   "source": [
    "pwd"
   ]
  },
  {
   "cell_type": "code",
   "execution_count": 55,
   "id": "f04f7759",
   "metadata": {},
   "outputs": [
    {
     "data": {
      "text/plain": [
       "'/Users/amina'"
      ]
     },
     "execution_count": 55,
     "metadata": {},
     "output_type": "execute_result"
    }
   ],
   "source": [
    "pwd"
   ]
  },
  {
   "cell_type": "markdown",
   "id": "8685dd06",
   "metadata": {},
   "source": [
    "Task 2\n",
    "In this assignment, you will perform medical data analysis by creating statistical tests on a given data set. You will check which variables are potentially a cause of a patient's death.\n",
    "* ﻿﻿1. For categorical variables, you should perform the chi-squared test of independence between each categorical variable and death variable. Treat variables as categorical if dtype iS int64.\n",
    "* ﻿﻿2. For numerical variables, perform two Shapiro-Wilk tests: one for each sample that was created by splitting the data by death variable.\n",
    "* ﻿﻿2.1. If p-values from Shapiro-Wilk tests indicate that both samples have a normal distribution (p-values greater than 0.05), perform the unpaired t-test with ",
    "the parameter equal_var = False.\n",
    "* ﻿﻿2.2. Otherwise perform the Mann-Whitney U test.\n",
    "Requirements\n",
    "Implement a function perform_tests which accepts one argument:\n",
    "• data: a pandas DataFrame consisting of the following columns: death (an indicator of whether a patient died less than a year after the operation) and 17 other variables (either categorical or numerical) describing health condition after operation and taken medicaments.\n",
    "The function returns a dictionary with the following four keys:\n",
    "* ﻿﻿mann_whitney, test, chi_square: each of these consists of a list of tuples with (variable name, p-value from the corresponding test). For chi _square, these should be categorical variables; for mann_whitney, numerical variables that don't have a normal distribution; and for test, numerical variables with a normal distribution. \n",
    "* ﻿﻿shapiro_wilk: a list of tuples with (variable name, (p-value for sample with deaths=0, p-value for sample with deaths=1)). These should be all numerical variables. Round all p-values in the output to four decimal places.\n",
    "\n",
    "Example\n",
    "With data limited to the following columns:\n",
    "\n",
    "example_data = data[[\"death\", \"Na+\", \"DBP\", \"PLT\", \"ivabradine\". \"MRA\" ]] \n",
    "\n",
    "the function perform_tests(example_data) will return:\n",
    "{'mann_whitney': [('Nat', 0.2143)],\n",
    "'ttest': [('DBP'0.0), ('PLT', 0.4739)],\n",
    "'chi_square': [('ivabradine', 0.0144), ('MRA', 0.2884)],\n",
    "'shapiro_wilk': [('Nat', (0.0, 0.0071)), ('PLT', (0.2361, 0.6935)), ('DBP', (0.5272, 0.37)]\n",
    "}\n",
    "Hints:\n",
    "Use the scipy.stats package to perform all tests.\n",
    "In addition to the Python 3.8 standard library you can use SciPy 1.5.2.\n",
    "\n",
    "\n",
    "def perform_tests(data):\n",
    "\n",
    "    return {\n",
    "        'mann_whitney': None,\n",
    "        'ttest': None,\n",
    "        'chi_square': None,\n",
    "        'shapiro_wilk': None\n",
    "    }"
   ]
  },
  {
   "cell_type": "code",
   "execution_count": 47,
   "id": "4904f21a",
   "metadata": {},
   "outputs": [
    {
     "data": {
      "text/html": [
       "<div>\n",
       "<style scoped>\n",
       "    .dataframe tbody tr th:only-of-type {\n",
       "        vertical-align: middle;\n",
       "    }\n",
       "\n",
       "    .dataframe tbody tr th {\n",
       "        vertical-align: top;\n",
       "    }\n",
       "\n",
       "    .dataframe thead th {\n",
       "        text-align: right;\n",
       "    }\n",
       "</style>\n",
       "<table border=\"1\" class=\"dataframe\">\n",
       "  <thead>\n",
       "    <tr style=\"text-align: right;\">\n",
       "      <th></th>\n",
       "      <th>death</th>\n",
       "      <th>amiodarone</th>\n",
       "      <th>loop_diuretics</th>\n",
       "      <th>ivabradine</th>\n",
       "      <th>ARB</th>\n",
       "      <th>digoxin</th>\n",
       "      <th>MRA</th>\n",
       "      <th>heart_failure</th>\n",
       "      <th>AOS</th>\n",
       "      <th>SBP</th>\n",
       "      <th>DBP</th>\n",
       "      <th>PLT</th>\n",
       "      <th>LDL</th>\n",
       "      <th>HDL</th>\n",
       "      <th>LVEF</th>\n",
       "      <th>Na+</th>\n",
       "      <th>K+</th>\n",
       "      <th>MPV</th>\n",
       "    </tr>\n",
       "  </thead>\n",
       "  <tbody>\n",
       "    <tr>\n",
       "      <th>0</th>\n",
       "      <td>0</td>\n",
       "      <td>0</td>\n",
       "      <td>0</td>\n",
       "      <td>1</td>\n",
       "      <td>1</td>\n",
       "      <td>1</td>\n",
       "      <td>0</td>\n",
       "      <td>2</td>\n",
       "      <td>0</td>\n",
       "      <td>62.0</td>\n",
       "      <td>126.0</td>\n",
       "      <td>196.0</td>\n",
       "      <td>50.0</td>\n",
       "      <td>42.0</td>\n",
       "      <td>28.0</td>\n",
       "      <td>136.0</td>\n",
       "      <td>4.30</td>\n",
       "      <td>9.9</td>\n",
       "    </tr>\n",
       "    <tr>\n",
       "      <th>1</th>\n",
       "      <td>0</td>\n",
       "      <td>1</td>\n",
       "      <td>1</td>\n",
       "      <td>0</td>\n",
       "      <td>1</td>\n",
       "      <td>0</td>\n",
       "      <td>1</td>\n",
       "      <td>0</td>\n",
       "      <td>1</td>\n",
       "      <td>72.0</td>\n",
       "      <td>108.0</td>\n",
       "      <td>245.0</td>\n",
       "      <td>59.0</td>\n",
       "      <td>85.0</td>\n",
       "      <td>25.0</td>\n",
       "      <td>147.0</td>\n",
       "      <td>4.58</td>\n",
       "      <td>13.3</td>\n",
       "    </tr>\n",
       "    <tr>\n",
       "      <th>2</th>\n",
       "      <td>0</td>\n",
       "      <td>0</td>\n",
       "      <td>0</td>\n",
       "      <td>0</td>\n",
       "      <td>0</td>\n",
       "      <td>1</td>\n",
       "      <td>1</td>\n",
       "      <td>2</td>\n",
       "      <td>2</td>\n",
       "      <td>73.0</td>\n",
       "      <td>109.0</td>\n",
       "      <td>219.0</td>\n",
       "      <td>79.0</td>\n",
       "      <td>61.0</td>\n",
       "      <td>14.0</td>\n",
       "      <td>133.0</td>\n",
       "      <td>4.05</td>\n",
       "      <td>1.5</td>\n",
       "    </tr>\n",
       "    <tr>\n",
       "      <th>3</th>\n",
       "      <td>0</td>\n",
       "      <td>0</td>\n",
       "      <td>0</td>\n",
       "      <td>1</td>\n",
       "      <td>1</td>\n",
       "      <td>1</td>\n",
       "      <td>0</td>\n",
       "      <td>2</td>\n",
       "      <td>1</td>\n",
       "      <td>55.0</td>\n",
       "      <td>114.0</td>\n",
       "      <td>294.0</td>\n",
       "      <td>97.0</td>\n",
       "      <td>55.0</td>\n",
       "      <td>8.0</td>\n",
       "      <td>150.0</td>\n",
       "      <td>5.34</td>\n",
       "      <td>7.8</td>\n",
       "    </tr>\n",
       "    <tr>\n",
       "      <th>4</th>\n",
       "      <td>0</td>\n",
       "      <td>0</td>\n",
       "      <td>1</td>\n",
       "      <td>0</td>\n",
       "      <td>1</td>\n",
       "      <td>1</td>\n",
       "      <td>1</td>\n",
       "      <td>2</td>\n",
       "      <td>2</td>\n",
       "      <td>70.0</td>\n",
       "      <td>95.0</td>\n",
       "      <td>293.0</td>\n",
       "      <td>96.0</td>\n",
       "      <td>30.0</td>\n",
       "      <td>28.0</td>\n",
       "      <td>151.0</td>\n",
       "      <td>5.25</td>\n",
       "      <td>6.8</td>\n",
       "    </tr>\n",
       "  </tbody>\n",
       "</table>\n",
       "</div>"
      ],
      "text/plain": [
       "   death  amiodarone  loop_diuretics  ivabradine  ARB  digoxin  MRA  \\\n",
       "0      0           0               0           1    1        1    0   \n",
       "1      0           1               1           0    1        0    1   \n",
       "2      0           0               0           0    0        1    1   \n",
       "3      0           0               0           1    1        1    0   \n",
       "4      0           0               1           0    1        1    1   \n",
       "\n",
       "   heart_failure  AOS   SBP    DBP    PLT   LDL   HDL  LVEF    Na+    K+   MPV  \n",
       "0              2    0  62.0  126.0  196.0  50.0  42.0  28.0  136.0  4.30   9.9  \n",
       "1              0    1  72.0  108.0  245.0  59.0  85.0  25.0  147.0  4.58  13.3  \n",
       "2              2    2  73.0  109.0  219.0  79.0  61.0  14.0  133.0  4.05   1.5  \n",
       "3              2    1  55.0  114.0  294.0  97.0  55.0   8.0  150.0  5.34   7.8  \n",
       "4              2    2  70.0   95.0  293.0  96.0  30.0  28.0  151.0  5.25   6.8  "
      ]
     },
     "execution_count": 47,
     "metadata": {},
     "output_type": "execute_result"
    }
   ],
   "source": [
    "import pandas as pd\n",
    "df =pd.read_csv('/Users/amina/Downloads/data/medical_data.csv')\n",
    "df.head()"
   ]
  },
  {
   "cell_type": "code",
   "execution_count": 50,
   "id": "792d9c07",
   "metadata": {},
   "outputs": [],
   "source": [
    "from scipy.stats import chi2_contingency, shapiro, ttest_ind, mannwhitneyu\n",
    "import pandas as pd\n",
    "\n",
    "def perform_tests(data):\n",
    "    result = {\n",
    "        'mann_whitney': [],\n",
    "        'ttest': [],\n",
    "        'chi_square': [],\n",
    "        'shapiro_wilk': []\n",
    "    }  \n",
    "    \n",
    "    for col in data.columns:\n",
    "        if col == 'death':\n",
    "            pass\n",
    "            \n",
    "        if data[col].dtype =='int64':\n",
    "            #perform chi-squared test\n",
    "            tmp = pd.crosstab(data['death'], data[col])\n",
    "            chi2, p, dof, expected = chi2_contingency(tmp)\n",
    "            result['chi_square'].append((col, round(p, 4)))\n",
    "        else: \n",
    "            #perform Shapiro-Wilk test\n",
    "            death_false = data[data['death'] ==0][col]\n",
    "            death_true = data[data['death']==1][col]\n",
    "            p_0 = round(shapiro(death_false)[1],4)\n",
    "            p_1 = round(shapiro(death_true)[1], 4)\n",
    "            result['shapiro_wilk'].append((col, p_0, p_1))\n",
    "\n",
    "            if p_0>0.05 and p_1>0.05:\n",
    "                # perform t-tests\n",
    "                t, p = ttest_ind(death_false, death_true, equal_var=False)\n",
    "                result['ttest'].append((col, round(p,4)))\n",
    "            else:\n",
    "                # perform Mann-Whitney U tests\n",
    "                u, p = mannwhitneyu(death_false, death_true)\n",
    "                result['mann_whitney'].append((col, round(p,4))) \n",
    "    return result"
   ]
  },
  {
   "cell_type": "code",
   "execution_count": 53,
   "id": "5be58efd",
   "metadata": {},
   "outputs": [
    {
     "data": {
      "text/plain": [
       "{'mann_whitney': [('Na+', 0.4286)],\n",
       " 'ttest': [('DBP', 0.0), ('PLT', 0.4739)],\n",
       " 'chi_square': [('death', 0.0), ('ivabradine', 0.0144), ('MRA', 0.2884)],\n",
       " 'shapiro_wilk': [('Na+', 0.0, 0.0071),\n",
       "  ('DBP', 0.5272, 0.3715),\n",
       "  ('PLT', 0.2361, 0.6935)]}"
      ]
     },
     "execution_count": 53,
     "metadata": {},
     "output_type": "execute_result"
    }
   ],
   "source": [
    "perform_tests(df[[\"death\", \"Na+\", \"DBP\", \"PLT\", \"ivabradine\", \"MRA\" ]])"
   ]
  },
  {
   "cell_type": "code",
   "execution_count": 54,
   "id": "efdd9741",
   "metadata": {},
   "outputs": [
    {
     "data": {
      "text/plain": [
       "{'mann_whitney': [('HDL', 0.0),\n",
       "  ('LVEF', 0.0),\n",
       "  ('Na+', 0.4286),\n",
       "  ('K+', 0.8569),\n",
       "  ('MPV', 0.8662)],\n",
       " 'ttest': [('SBP', 0.0), ('DBP', 0.0), ('PLT', 0.4739), ('LDL', 0.8392)],\n",
       " 'chi_square': [('death', 0.0),\n",
       "  ('amiodarone', 0.0),\n",
       "  ('loop_diuretics', 0.0),\n",
       "  ('ivabradine', 0.0144),\n",
       "  ('ARB', 0.2338),\n",
       "  ('digoxin', 0.5185),\n",
       "  ('MRA', 0.2884),\n",
       "  ('heart_failure', 0.0),\n",
       "  ('AOS', 0.974)],\n",
       " 'shapiro_wilk': [('SBP', 0.2581, 0.5881),\n",
       "  ('DBP', 0.5272, 0.3715),\n",
       "  ('PLT', 0.2361, 0.6935),\n",
       "  ('LDL', 0.9367, 0.95),\n",
       "  ('HDL', 0.4388, 0.0006),\n",
       "  ('LVEF', 0.0, 0.0),\n",
       "  ('Na+', 0.0, 0.0071),\n",
       "  ('K+', 0.0, 0.1771),\n",
       "  ('MPV', 0.0, 0.0003)]}"
      ]
     },
     "execution_count": 54,
     "metadata": {},
     "output_type": "execute_result"
    }
   ],
   "source": [
    "perform_tests(df)"
   ]
  },
  {
   "cell_type": "code",
   "execution_count": null,
   "id": "cd448cf7",
   "metadata": {},
   "outputs": [],
   "source": []
  },
  {
   "cell_type": "code",
   "execution_count": null,
   "id": "24479e4c",
   "metadata": {},
   "outputs": [],
   "source": []
  },
  {
   "cell_type": "code",
   "execution_count": null,
   "id": "89a4b1e8",
   "metadata": {},
   "outputs": [],
   "source": []
  }
 ],
 "metadata": {
  "kernelspec": {
   "display_name": "Python 3 (ipykernel)",
   "language": "python",
   "name": "python3"
  },
  "language_info": {
   "codemirror_mode": {
    "name": "ipython",
    "version": 3
   },
   "file_extension": ".py",
   "mimetype": "text/x-python",
   "name": "python",
   "nbconvert_exporter": "python",
   "pygments_lexer": "ipython3",
   "version": "3.8.10"
  }
 },
 "nbformat": 4,
 "nbformat_minor": 5
}
