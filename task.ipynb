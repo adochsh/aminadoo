{
  "nbformat": 4,
  "nbformat_minor": 0,
  "metadata": {
    "colab": {
      "private_outputs": true,
      "provenance": [],
      "toc_visible": true,
      "mount_file_id": "1QEd1Wqz5m-6cANDkDiEnkw9ijcnQxOyK",
      "authorship_tag": "ABX9TyOniHHHB862VamOrFABIjAU",
      "include_colab_link": true
    },
    "kernelspec": {
      "name": "python3",
      "display_name": "Python 3"
    },
    "language_info": {
      "name": "python"
    }
  },
  "cells": [
    {
      "cell_type": "markdown",
      "metadata": {
        "id": "view-in-github",
        "colab_type": "text"
      },
      "source": [
        "<a href=\"https://colab.research.google.com/github/adochsh/aminadoo/blob/main/task.ipynb\" target=\"_parent\"><img src=\"https://colab.research.google.com/assets/colab-badge.svg\" alt=\"Open In Colab\"/></a>"
      ]
    },
    {
      "cell_type": "code",
      "execution_count": null,
      "metadata": {
        "id": "sWGNLVQPGa0o"
      },
      "outputs": [],
      "source": [
        "import pandas as pd\n",
        "import numpy as np\n",
        "pd.set_option('display.max_columns', None)\n",
        "\n",
        "import phik\n",
        "from phik.report import plot_correlation_matrix\n",
        "from phik import report\n",
        "from google.colab import drive\n",
        "drive.mount('/content/drive')"
      ]
    },
    {
      "cell_type": "code",
      "source": [
        "#!pip install phik"
      ],
      "metadata": {
        "id": "SyjD4PQKk_KK"
      },
      "execution_count": null,
      "outputs": []
    },
    {
      "cell_type": "markdown",
      "source": [
        "The key aspect of ride-hailing is **upfront pricing**, which works the following way. \n",
        "*   First, it **predicts the price** for a ride **based on** predicted distance and time. This price is what you see on the screen of the phone before ordering a ride. \n",
        "*   Second, if **the metered price** based on actual distance and time **differs** a lot **from the predicted one**, the upfront price switches to the metered price.'A lot' means by more than 20%. \n",
        "\n",
        "\n",
        "---\n",
        "For example, suppose you want to make a ride that upfront price predicts to cost 5 euros. \n",
        "If the **metered price is between 4 and 6 euros** - the rider pays 5 euros, otherwise the metered price.\n",
        "\n",
        "\n",
        "---\n",
        "We would like to **improve the upfront pricing precision**. Kindly analyze the data and **identify top opportunities** for that. Could you name the top one opportunity? \n",
        "\n"
      ],
      "metadata": {
        "id": "k-zByW6dSHsy"
      }
    },
    {
      "cell_type": "code",
      "source": [
        "df = pd.read_excel('/content/drive/MyDrive/bolt/Test.csv.xlsx')\n",
        "print(df.shape)\n",
        "df.head(3)"
      ],
      "metadata": {
        "id": "2fUUMGkERV_L"
      },
      "execution_count": null,
      "outputs": []
    },
    {
      "cell_type": "code",
      "source": [
        "# % of null values in columns   \n",
        "round(df.isna().mean().sort_values(ascending=False)*100).head(10)"
      ],
      "metadata": {
        "id": "TwpkIeQeYhLz"
      },
      "execution_count": null,
      "outputs": []
    },
    {
      "cell_type": "code",
      "source": [
        "# consider the info above let's get rid of 'device_token' and 'change_reason_pricing' columns\n",
        "df = df.drop(columns =['device_token', 'change_reason_pricing'])\n",
        "\n",
        "df.drop_duplicates().shape, df.shape"
      ],
      "metadata": {
        "id": "tRGQphNXbV2u"
      },
      "execution_count": null,
      "outputs": []
    },
    {
      "cell_type": "code",
      "source": [
        "df['prediction_price_type'].value_counts() / df.shape[0]"
      ],
      "metadata": {
        "id": "Vf1MB9iMb0am"
      },
      "execution_count": null,
      "outputs": []
    },
    {
      "cell_type": "markdown",
      "source": [
        "in 70% cases of the data the 'upfront' prediction_price_type was applied."
      ],
      "metadata": {
        "id": "GagpS75o1xYC"
      }
    },
    {
      "cell_type": "markdown",
      "source": [
        "### Let see correlations of the values when metered_price differs from the upfront_price by 20% to other columns\n",
        "\n"
      ],
      "metadata": {
        "id": "DEvxLLMzMulZ"
      }
    },
    {
      "cell_type": "code",
      "source": [
        "df =df[~df.upfront_price.isna()].copy() #consider only nonull values\n",
        "df_next =df[df.upfront_price.isna()].copy()"
      ],
      "metadata": {
        "id": "N5DTchg8SxpL"
      },
      "execution_count": null,
      "outputs": []
    },
    {
      "cell_type": "code",
      "source": [
        "df['price_diff'] = abs(df['metered_price'] - df['upfront_price']) /df['metered_price']\n",
        "\n",
        "###! diff_more_20 - when the metered price differs from the upfront_price by 20%\n",
        "df['diff_more_20'] = (df['price_diff'] >= 0.20) * 1 "
      ],
      "metadata": {
        "id": "T-kDbiy9hpHa"
      },
      "execution_count": null,
      "outputs": []
    },
    {
      "cell_type": "code",
      "source": [
        "df.diff_more_20.value_counts() # differs by 20% in 1364 rows"
      ],
      "metadata": {
        "id": "pdxot_xsOWe6"
      },
      "execution_count": null,
      "outputs": []
    },
    {
      "cell_type": "code",
      "source": [
        "df['diff_more_20'].mean() # differs by 20% in 40% of non null upfront prices"
      ],
      "metadata": {
        "id": "HWOZt0DWVLm4"
      },
      "execution_count": null,
      "outputs": []
    },
    {
      "cell_type": "code",
      "source": [
        "df_matrix = df.phik_matrix()\n",
        "df_matrix[['diff_more_20']].sort_values(by=['diff_more_20'],ascending=False)\\\n",
        "                                                    .style.background_gradient(cmap='RdPu')"
      ],
      "metadata": {
        "id": "I5p05v2CklPv"
      },
      "execution_count": null,
      "outputs": []
    },
    {
      "cell_type": "markdown",
      "source": [
        "## Top opportunity 1"
      ],
      "metadata": {
        "id": "gVgRjDjTY3qp"
      }
    },
    {
      "cell_type": "markdown",
      "source": [
        "most correlated (by 0.429982) columns is null **device_name**, lets see more detailed "
      ],
      "metadata": {
        "id": "mJ2GvGWTZ7gL"
      }
    },
    {
      "cell_type": "code",
      "source": [
        "df.groupby('device_name')['diff_more_20'].agg(['count','mean']).sort_values('mean',ascending=False).head(10)"
      ],
      "metadata": {
        "id": "3jG2-DTgo6uR"
      },
      "execution_count": null,
      "outputs": []
    },
    {
      "cell_type": "code",
      "source": [
        "df.device_name.str.split().str.get(0).str.replace('\\d+', '', regex=True).unique()"
      ],
      "metadata": {
        "id": "bN_GWqX-RQ9Q"
      },
      "execution_count": null,
      "outputs": []
    },
    {
      "cell_type": "code",
      "source": [
        "df.device_name = df.device_name.str.split().str.get(0).str.replace('\\d+', '', regex=True)\n",
        "df.loc[df.device_name.str.contains('TECNO'),'device_name'] = 'TECNO MOBILE'"
      ],
      "metadata": {
        "id": "pdjDaNMiR1b7"
      },
      "execution_count": null,
      "outputs": []
    },
    {
      "cell_type": "code",
      "source": [
        "df.groupby('device_name')['diff_more_20'].agg(['count','mean']).sort_values('count',ascending=False).head(15)"
      ],
      "metadata": {
        "id": "oaMbQ9YfSfFJ"
      },
      "execution_count": null,
      "outputs": []
    },
    {
      "cell_type": "markdown",
      "source": [
        "### Conclusion\n",
        "---\n",
        "\n",
        "in the table above a list of devices that makes worse the upfront pricing precision. Recommendation is to change type of mobile.\n",
        "\n",
        "---\n",
        "\n"
      ],
      "metadata": {
        "id": "w9MbS2_XXhgI"
      }
    },
    {
      "cell_type": "markdown",
      "source": [
        "## Top opportunity 2 "
      ],
      "metadata": {
        "id": "UF6nnh0NZHSq"
      }
    },
    {
      "cell_type": "markdown",
      "source": [
        "second most correlated (by 0.323787) columns is null **gps_confidence**, lets see more detailed  "
      ],
      "metadata": {
        "id": "p3rqAeYHD1aX"
      }
    },
    {
      "cell_type": "code",
      "source": [
        "df.groupby('gps_confidence')['diff_more_20'].agg(['count','mean'])\\\n",
        "  .sort_values('count', ascending=False).head(10)"
      ],
      "metadata": {
        "id": "yVVdfN4FjDWM"
      },
      "execution_count": null,
      "outputs": []
    },
    {
      "cell_type": "markdown",
      "source": [
        "\n",
        "### Conclusion\n",
        "\n",
        "---\n",
        "\n",
        "from the aggregations **above** we can suppose, that the upfront_price precision can be improved by gps tracking device.\n",
        "\n",
        "---\n",
        "\n"
      ],
      "metadata": {
        "id": "srCv51Doa7mL"
      }
    },
    {
      "cell_type": "markdown",
      "source": [
        "## Top opportunity 3 "
      ],
      "metadata": {
        "id": "sH1cuf2uaRIK"
      }
    },
    {
      "cell_type": "markdown",
      "source": [
        "third most correlated (by0.314773) columns is null **duration**, lets see more detailed "
      ],
      "metadata": {
        "id": "PaVIjTBUaRIL"
      }
    },
    {
      "cell_type": "code",
      "source": [
        "df.groupby('duration')['diff_more_20'].agg(['count','mean'])\\\n",
        "  .sort_values('count', ascending=False).head(5)"
      ],
      "metadata": {
        "id": "VwiS2nYGaRIL"
      },
      "execution_count": null,
      "outputs": []
    },
    {
      "cell_type": "code",
      "source": [
        "# lets segmentate duration values by the frequency of those values for 6 bins.\n",
        "\n",
        "df['duration_freq'] = pd.qcut(df['duration'], 6)\n",
        "df.groupby('duration_freq')['diff_more_20'].agg(['count','mean'])\\\n",
        "                                    .sort_values('mean', ascending=False)"
      ],
      "metadata": {
        "id": "ncnNFYmzkGRJ"
      },
      "execution_count": null,
      "outputs": []
    },
    {
      "cell_type": "markdown",
      "source": [
        "\n",
        "### Conclusion\n",
        "\n",
        "---\n",
        "\n",
        "here we can conclude that for long distances the upfront pricing doesn't work well. It can be considered in ML modelling.\n",
        "\n",
        "---\n",
        "\n"
      ],
      "metadata": {
        "id": "CExN7XUbC5Me"
      }
    },
    {
      "cell_type": "markdown",
      "source": [
        "## Top opportunity 4 "
      ],
      "metadata": {
        "id": "4-HLsTYLbyvf"
      }
    },
    {
      "cell_type": "markdown",
      "source": [
        "next  correlated (by 0.296276) columns is null **eu_indicator**, lets see more detailed "
      ],
      "metadata": {
        "id": "9P_WjXUjbyvg"
      }
    },
    {
      "cell_type": "code",
      "source": [
        "df.groupby('eu_indicator')['diff_more_20'].agg(['count','mean'])"
      ],
      "metadata": {
        "id": "5VKa4hefcA0h"
      },
      "execution_count": null,
      "outputs": []
    },
    {
      "cell_type": "markdown",
      "source": [
        "\n",
        "### Conclusion\n",
        "\n",
        "---\n",
        "\n",
        "the upfront_price precision can be improved by improving service in non Europian Union locations. \n",
        "\n",
        "---\n",
        "\n"
      ],
      "metadata": {
        "id": "N6j0oOeM9j2l"
      }
    },
    {
      "cell_type": "markdown",
      "source": [
        "## Top opportunity 5 "
      ],
      "metadata": {
        "id": "UCesazsxcbQp"
      }
    },
    {
      "cell_type": "markdown",
      "source": [
        "next  correlated (by \t0.224632\n",
        ") columns is null **metered_price**, lets see more detailed "
      ],
      "metadata": {
        "id": "gjg9wBlvcbQq"
      }
    },
    {
      "cell_type": "code",
      "source": [
        "# lets segmentate duration values by the frequency of those values for 6 bins.\n",
        "\n",
        "df['metered_price_freq'] = pd.qcut(df['metered_price'], 6)\n",
        "df.groupby('metered_price_freq')['diff_more_20'].agg(['count','mean'])\\\n",
        "                                    .sort_values('count', ascending=False)"
      ],
      "metadata": {
        "id": "LitX1mNAcbQq"
      },
      "execution_count": null,
      "outputs": []
    },
    {
      "cell_type": "markdown",
      "source": [
        "\n",
        "### Conclusion\n",
        "\n",
        "---\n",
        "\n",
        "the metered_price in range (7940.22 - 194483.52) affects on upfront pricing significantly, the metered_price's mathematics should be reconsidered in such ranges. Assume, that it consists of two main variable distance and duration, which affects mostly.\n",
        "\n",
        "---\n",
        "\n"
      ],
      "metadata": {
        "id": "1nYX-MgccbQr"
      }
    },
    {
      "cell_type": "markdown",
      "source": [
        "## Top opportunity 6 "
      ],
      "metadata": {
        "id": "3Vy-zgtad7DN"
      }
    },
    {
      "cell_type": "markdown",
      "source": [
        "next less correlated (by \t0.178249\n",
        ") columns is null **driver_app_version**, lets see more detailed "
      ],
      "metadata": {
        "id": "GQZm40dCd7DO"
      }
    },
    {
      "cell_type": "code",
      "source": [
        "df.groupby('driver_app_version')['diff_more_20'].agg(['count','mean'])\\\n",
        "  .sort_values('count',ascending=False).head(7)"
      ],
      "metadata": {
        "id": "fkGBVt9kd7DO"
      },
      "execution_count": null,
      "outputs": []
    },
    {
      "cell_type": "markdown",
      "source": [
        "\n",
        "### Conclusion\n",
        "\n",
        "---\n",
        "\n",
        "the driver_app_version also affects on upfront pricing. The suggestion is to make a alertion in the system for a driver to update app version.\n",
        "\n",
        "---\n",
        "\n"
      ],
      "metadata": {
        "id": "6dsqQ07dd7DO"
      }
    },
    {
      "cell_type": "code",
      "source": [],
      "metadata": {
        "id": "h19YfI6Od45S"
      },
      "execution_count": null,
      "outputs": []
    }
  ]
}