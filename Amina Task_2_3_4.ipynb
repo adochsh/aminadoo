{
 "cells": [
  {
   "cell_type": "code",
   "execution_count": 13,
   "id": "f057dac3-bf1c-4607-bb5a-aed839f9337f",
   "metadata": {},
   "outputs": [],
   "source": [
    "import pandas as pd\n",
    "from datetime import datetime\n",
    "import matplotlib.pyplot as plt\n",
    "from datetime import datetime, timedelta\n",
    "import random\n",
    "import seaborn as sns\n",
    " "
   ]
  },
  {
   "cell_type": "code",
   "execution_count": 166,
   "id": "75a649d9-2d6e-4b74-9413-c44078ab69b2",
   "metadata": {},
   "outputs": [
    {
     "data": {
      "text/html": [
       "<div>\n",
       "<style scoped>\n",
       "    .dataframe tbody tr th:only-of-type {\n",
       "        vertical-align: middle;\n",
       "    }\n",
       "\n",
       "    .dataframe tbody tr th {\n",
       "        vertical-align: top;\n",
       "    }\n",
       "\n",
       "    .dataframe thead th {\n",
       "        text-align: right;\n",
       "    }\n",
       "</style>\n",
       "<table border=\"1\" class=\"dataframe\">\n",
       "  <thead>\n",
       "    <tr style=\"text-align: right;\">\n",
       "      <th></th>\n",
       "      <th>date_created</th>\n",
       "      <th>id</th>\n",
       "      <th>lesson_id</th>\n",
       "      <th>user_id</th>\n",
       "      <th>lesson_name</th>\n",
       "      <th>profession_id</th>\n",
       "      <th>profession_name</th>\n",
       "      <th>next_lesson_datetime</th>\n",
       "      <th>delta_seconds</th>\n",
       "    </tr>\n",
       "  </thead>\n",
       "  <tbody>\n",
       "    <tr>\n",
       "      <th>0</th>\n",
       "      <td>2020-04-01 10:00:00</td>\n",
       "      <td>1</td>\n",
       "      <td>101</td>\n",
       "      <td>1</td>\n",
       "      <td>Intro to Data</td>\n",
       "      <td>10</td>\n",
       "      <td>data-analyst</td>\n",
       "      <td>2020-04-01 10:00:02</td>\n",
       "      <td>2.0</td>\n",
       "    </tr>\n",
       "    <tr>\n",
       "      <th>2</th>\n",
       "      <td>2020-04-01 10:00:02</td>\n",
       "      <td>2</td>\n",
       "      <td>102</td>\n",
       "      <td>1</td>\n",
       "      <td>Data Methods</td>\n",
       "      <td>10</td>\n",
       "      <td>data-analyst</td>\n",
       "      <td>2020-04-01 10:01:00</td>\n",
       "      <td>58.0</td>\n",
       "    </tr>\n",
       "    <tr>\n",
       "      <th>4</th>\n",
       "      <td>2020-04-01 10:01:00</td>\n",
       "      <td>3</td>\n",
       "      <td>103</td>\n",
       "      <td>1</td>\n",
       "      <td>Data Analysis</td>\n",
       "      <td>10</td>\n",
       "      <td>data-analyst</td>\n",
       "      <td>2020-04-01 10:05:00</td>\n",
       "      <td>240.0</td>\n",
       "    </tr>\n",
       "    <tr>\n",
       "      <th>6</th>\n",
       "      <td>2020-04-01 10:05:00</td>\n",
       "      <td>7</td>\n",
       "      <td>104</td>\n",
       "      <td>1</td>\n",
       "      <td>Advanced Topics</td>\n",
       "      <td>10</td>\n",
       "      <td>data-analyst</td>\n",
       "      <td>2020-04-01 10:05:04</td>\n",
       "      <td>4.0</td>\n",
       "    </tr>\n",
       "    <tr>\n",
       "      <th>7</th>\n",
       "      <td>2020-04-01 10:05:04</td>\n",
       "      <td>8</td>\n",
       "      <td>105</td>\n",
       "      <td>1</td>\n",
       "      <td>Data Presentation</td>\n",
       "      <td>10</td>\n",
       "      <td>data-analyst</td>\n",
       "      <td>NaT</td>\n",
       "      <td>NaN</td>\n",
       "    </tr>\n",
       "    <tr>\n",
       "      <th>1</th>\n",
       "      <td>2020-04-02 11:00:00</td>\n",
       "      <td>4</td>\n",
       "      <td>101</td>\n",
       "      <td>2</td>\n",
       "      <td>Intro to Data</td>\n",
       "      <td>10</td>\n",
       "      <td>data-analyst</td>\n",
       "      <td>2020-04-02 11:00:03</td>\n",
       "      <td>3.0</td>\n",
       "    </tr>\n",
       "    <tr>\n",
       "      <th>3</th>\n",
       "      <td>2020-04-02 11:00:03</td>\n",
       "      <td>5</td>\n",
       "      <td>102</td>\n",
       "      <td>2</td>\n",
       "      <td>Data Methods</td>\n",
       "      <td>10</td>\n",
       "      <td>data-analyst</td>\n",
       "      <td>2020-04-03 12:00:00</td>\n",
       "      <td>89997.0</td>\n",
       "    </tr>\n",
       "    <tr>\n",
       "      <th>5</th>\n",
       "      <td>2020-04-03 12:00:00</td>\n",
       "      <td>6</td>\n",
       "      <td>103</td>\n",
       "      <td>2</td>\n",
       "      <td>Data Analysis</td>\n",
       "      <td>10</td>\n",
       "      <td>data-analyst</td>\n",
       "      <td>NaT</td>\n",
       "      <td>NaN</td>\n",
       "    </tr>\n",
       "  </tbody>\n",
       "</table>\n",
       "</div>"
      ],
      "text/plain": [
       "         date_created  id  lesson_id  user_id        lesson_name  \\\n",
       "0 2020-04-01 10:00:00   1        101        1      Intro to Data   \n",
       "2 2020-04-01 10:00:02   2        102        1       Data Methods   \n",
       "4 2020-04-01 10:01:00   3        103        1      Data Analysis   \n",
       "6 2020-04-01 10:05:00   7        104        1    Advanced Topics   \n",
       "7 2020-04-01 10:05:04   8        105        1  Data Presentation   \n",
       "1 2020-04-02 11:00:00   4        101        2      Intro to Data   \n",
       "3 2020-04-02 11:00:03   5        102        2       Data Methods   \n",
       "5 2020-04-03 12:00:00   6        103        2      Data Analysis   \n",
       "\n",
       "   profession_id profession_name next_lesson_datetime  delta_seconds  \n",
       "0             10    data-analyst  2020-04-01 10:00:02            2.0  \n",
       "2             10    data-analyst  2020-04-01 10:01:00           58.0  \n",
       "4             10    data-analyst  2020-04-01 10:05:00          240.0  \n",
       "6             10    data-analyst  2020-04-01 10:05:04            4.0  \n",
       "7             10    data-analyst                  NaT            NaN  \n",
       "1             10    data-analyst  2020-04-02 11:00:03            3.0  \n",
       "3             10    data-analyst  2020-04-03 12:00:00        89997.0  \n",
       "5             10    data-analyst                  NaT            NaN  "
      ]
     },
     "execution_count": 166,
     "metadata": {},
     "output_type": "execute_result"
    }
   ],
   "source": [
    "sorted_data"
   ]
  },
  {
   "cell_type": "markdown",
   "id": "65614ea9-0c79-446c-8fa0-642df2648983",
   "metadata": {},
   "source": [
    "### **Task 2**\n",
    "\n",
    "Build a dashboard (using Python or Tableau Public) that quickly answers the following questions:\n",
    "\n",
    "- \"Are there any lessons with completion times under 5 seconds?\"\n",
    "- \"How many such lessons are there?\"\n",
    "- \"What are the names of these lessons?\" (use lesson_id)\n",
    "\n",
    "Assume that you have all the necessary data for this dashboard, aggregated in the desired manner."
   ]
  },
  {
   "cell_type": "markdown",
   "id": "1b351cce-c67f-4456-b5ec-9dd99c0c5e3b",
   "metadata": {},
   "source": [
    "#### Question 1: Are there any lessons with completion times under 5 seconds? "
   ]
  },
  {
   "cell_type": "code",
   "execution_count": 92,
   "id": "aaf13da6-26bf-46bf-b008-45b9a30b555d",
   "metadata": {},
   "outputs": [
    {
     "data": {
      "text/html": [
       "<div>\n",
       "<style scoped>\n",
       "    .dataframe tbody tr th:only-of-type {\n",
       "        vertical-align: middle;\n",
       "    }\n",
       "\n",
       "    .dataframe tbody tr th {\n",
       "        vertical-align: top;\n",
       "    }\n",
       "\n",
       "    .dataframe thead th {\n",
       "        text-align: right;\n",
       "    }\n",
       "</style>\n",
       "<table border=\"1\" class=\"dataframe\">\n",
       "  <thead>\n",
       "    <tr style=\"text-align: right;\">\n",
       "      <th></th>\n",
       "      <th>user_id</th>\n",
       "      <th>lesson_id</th>\n",
       "      <th>lesson_datetime</th>\n",
       "      <th>next_lesson_datetime</th>\n",
       "      <th>delta_seconds</th>\n",
       "      <th>profession_name</th>\n",
       "      <th>current_lesson</th>\n",
       "      <th>next_lesson</th>\n",
       "    </tr>\n",
       "  </thead>\n",
       "  <tbody>\n",
       "    <tr>\n",
       "      <th>0</th>\n",
       "      <td>1</td>\n",
       "      <td>101</td>\n",
       "      <td>2020-04-01 10:00:00</td>\n",
       "      <td>2020-04-01 10:00:02</td>\n",
       "      <td>2.000029</td>\n",
       "      <td>data-analyst</td>\n",
       "      <td>Intro to Data</td>\n",
       "      <td>Data Methods</td>\n",
       "    </tr>\n",
       "    <tr>\n",
       "      <th>1</th>\n",
       "      <td>1</td>\n",
       "      <td>104</td>\n",
       "      <td>2020-04-01 10:05:00</td>\n",
       "      <td>2020-04-01 10:05:04</td>\n",
       "      <td>3.999978</td>\n",
       "      <td>data-analyst</td>\n",
       "      <td>Advanced Topics</td>\n",
       "      <td>Data Presentation</td>\n",
       "    </tr>\n",
       "    <tr>\n",
       "      <th>2</th>\n",
       "      <td>2</td>\n",
       "      <td>101</td>\n",
       "      <td>2020-04-02 11:00:00</td>\n",
       "      <td>2020-04-02 11:00:03</td>\n",
       "      <td>2.999984</td>\n",
       "      <td>data-analyst</td>\n",
       "      <td>Intro to Data</td>\n",
       "      <td>Data Methods</td>\n",
       "    </tr>\n",
       "  </tbody>\n",
       "</table>\n",
       "</div>"
      ],
      "text/plain": [
       "   user_id  lesson_id      lesson_datetime next_lesson_datetime  \\\n",
       "0        1        101  2020-04-01 10:00:00  2020-04-01 10:00:02   \n",
       "1        1        104  2020-04-01 10:05:00  2020-04-01 10:05:04   \n",
       "2        2        101  2020-04-02 11:00:00  2020-04-02 11:00:03   \n",
       "\n",
       "   delta_seconds profession_name   current_lesson        next_lesson  \n",
       "0       2.000029    data-analyst    Intro to Data       Data Methods  \n",
       "1       3.999978    data-analyst  Advanced Topics  Data Presentation  \n",
       "2       2.999984    data-analyst    Intro to Data       Data Methods  "
      ]
     },
     "execution_count": 92,
     "metadata": {},
     "output_type": "execute_result"
    }
   ],
   "source": [
    "df"
   ]
  },
  {
   "cell_type": "code",
   "execution_count": 117,
   "id": "7a26a1fd-f66b-4c17-9f53-f3c8f3926d1e",
   "metadata": {},
   "outputs": [
    {
     "data": {
      "image/png": "[encoded data removed]",
      "text/plain": [
       "<Figure size 1000x200 with 1 Axes>"
      ]
     },
     "metadata": {},
     "output_type": "display_data"
    },
    {
     "data": {
      "image/png": "[encoded data removed]",
      "text/plain": [
       "<Figure size 640x480 with 1 Axes>"
      ]
     },
     "metadata": {},
     "output_type": "display_data"
    },
    {
     "data": {
      "image/png": "[encoded data removed]",
      "text/plain": [
       "<Figure size 1000x200 with 1 Axes>"
      ]
     },
     "metadata": {},
     "output_type": "display_data"
    }
   ],
   "source": [
    "### Question 2: How many such lessons are there?¶\n",
    "total_lessons = sorted_data.shape[0]\n",
    "lessons_under_5_seconds = sorted_data[sorted_data['delta_seconds'] < 5].shape[0]\n",
    "fig, ax = plt.subplots(figsize=(10, 2))  # Adjust the size to your preference\n",
    "ax.axis('off')\n",
    "fig.patch.set_visible(False)\n",
    "ax.axis('off')\n",
    "plt.text(0.5, 0.7, f'Total Number of Lessons: {total_lessons}', fontsize=15, ha='center', color='orange')\n",
    "plt.text(0.5, 0.3, f'Number of Lessons Completed Under 5 Seconds: {lessons_under_5_seconds}', fontsize=15, ha='center', color='red')\n",
    "plt.show()\n",
    "\n",
    "### Question 1: Are there any lessons with completion times under 5 seconds?\n",
    "sns.barplot(x='current_lesson', y='delta_seconds', data=df)\n",
    "plt.axhline(5, color='red', linestyle='--')  # Line to indicate the 5-second threshold\n",
    "\n",
    "### Question 3: What are the names of these lessons? (use lesson_id)¶\n",
    "lessons_ids_under_5_seconds = df.lesson_id.unique()\n",
    "fig, ax = plt.subplots(figsize=(10, 2))  # Adjust the size to your preference\n",
    "ax.axis('off')\n",
    "fig.patch.set_visible(False)\n",
    "ax.axis('off')\n",
    "plt.text(0.5, 0.7, f'Lessons IDs with completion times under 5 seconds: {lessons_ids_under_5_seconds}', fontsize=15, ha='center')\n",
    "plt.show()"
   ]
  },
  {
   "cell_type": "markdown",
   "id": "2a398106-51e6-4094-b158-828361ca39b9",
   "metadata": {},
   "source": [
    "### **Task 3**\n",
    "\n",
    "You've identified data bugs in Task 3 and need to inform your colleagues via Slack channel. Write a concise and informative message that communicates what happened. Feel free to be creative in how you deliver this news to the team."
   ]
  },
  {
   "cell_type": "code",
   "execution_count": 124,
   "id": "6cbc58f0-ec45-4546-a466-e1cb7ffcefe7",
   "metadata": {},
   "outputs": [],
   "source": [
    "text = \"\"\"\n",
    "*Data Bug Alert!* 🚨\n",
    "\n",
    "Hey Team! Hope you're all having a bug-free day—well, almost! I've unearthed some tiny critters in our dataset that need our attention. 🕵️‍♀️\n",
    "\n",
    "*Here's the buzz:*\n",
    "We've spotted some super-speedy lesson completions that are faster than a cheetah on a skateboard—under 5 seconds! 🐆💨 While we all love efficiency, this seems a tad too quick, even for our brightest students.\n",
    "\n",
    "*Stats at a glance:*\n",
    "\n",
    "- 🕒 Record-breaking completion times: Less than 5 seconds\n",
    "- 📚 Affected lessons IDs: {}\n",
    "- 📉 Impact: Might skew our data analytics on user engagement\n",
    "\n",
    "*Next steps:*\n",
    "\n",
    "1. I'll drop the details in a report shortly. 📋\n",
    "2. Let’s pause any data-driven decisions that could be impacted. ⏸️\n",
    "\n",
    "Let's catch these speedsters and get our dataset back on track! 🛤️\n",
    "\"\"\".format(lessons_ids_under_5_seconds)"
   ]
  },
  {
   "cell_type": "code",
   "execution_count": 125,
   "id": "faf1ba5d-fa50-41df-8824-8709eb41ec5a",
   "metadata": {},
   "outputs": [
    {
     "name": "stdout",
     "output_type": "stream",
     "text": [
      "\n",
      "*Data Bug Alert!* 🚨\n",
      "\n",
      "Hey Team! Hope you're all having a bug-free day—well, almost! I've unearthed some tiny critters in our dataset that need our attention. 🕵️‍♀️\n",
      "\n",
      "*Here's the buzz:*\n",
      "We've spotted some super-speedy lesson completions that are faster than a cheetah on a skateboard—under 5 seconds! 🐆💨 While we all love efficiency, this seems a tad too quick, even for our brightest students.\n",
      "\n",
      "*Stats at a glance:*\n",
      "\n",
      "- 🕒 Record-breaking completion times: Less than 5 seconds\n",
      "- 📚 Affected lessons IDs: [101 104]\n",
      "- 📉 Impact: Might skew our data analytics on user engagement\n",
      "\n",
      "*Next steps:*\n",
      "\n",
      "1. I'll drop the details in a report shortly. 📋\n",
      "2. Let’s pause any data-driven decisions that could be impacted. ⏸️\n",
      "\n",
      "Let's catch these speedsters and get our dataset back on track! 🛤️\n",
      "\n"
     ]
    }
   ],
   "source": [
    "print(text)"
   ]
  },
  {
   "cell_type": "code",
   "execution_count": null,
   "id": "8eb55c4d-d15c-4955-85b5-0bc2bf52b1cb",
   "metadata": {},
   "outputs": [],
   "source": []
  },
  {
   "cell_type": "markdown",
   "id": "0d7598f5-7cdb-4d23-97b2-5f15c42da1c8",
   "metadata": {},
   "source": [
    "### **Task 4**\n",
    "\n",
    "One of the key responsibilities of a Product Analyst at TripleTen is designing and conducting experiments. Answer a few questions and solve a problem.\n",
    "\n",
    "Questions:\n",
    "\n",
    "- How do you determine the appropriate sample size for an A/B test?\n",
    "- What should be included in the experiment brief?\n",
    "- How are experiment metrics defined, and what qualities should experiment metrics possess?"
   ]
  },
  {
   "cell_type": "code",
   "execution_count": 139,
   "id": "c3c877ff-598c-4811-9697-cd93279b70e6",
   "metadata": {},
   "outputs": [
    {
     "data": {
      "text/html": [
       "<div>\n",
       "<style scoped>\n",
       "    .dataframe tbody tr th:only-of-type {\n",
       "        vertical-align: middle;\n",
       "    }\n",
       "\n",
       "    .dataframe tbody tr th {\n",
       "        vertical-align: top;\n",
       "    }\n",
       "\n",
       "    .dataframe thead th {\n",
       "        text-align: right;\n",
       "    }\n",
       "</style>\n",
       "<table border=\"1\" class=\"dataframe\">\n",
       "  <thead>\n",
       "    <tr style=\"text-align: right;\">\n",
       "      <th></th>\n",
       "      <th>transactionId</th>\n",
       "      <th>visitorId</th>\n",
       "      <th>date</th>\n",
       "      <th>revenue</th>\n",
       "      <th>group</th>\n",
       "    </tr>\n",
       "  </thead>\n",
       "  <tbody>\n",
       "    <tr>\n",
       "      <th>0</th>\n",
       "      <td>3667963787</td>\n",
       "      <td>3312258926</td>\n",
       "      <td>2019-08-15</td>\n",
       "      <td>1650</td>\n",
       "      <td>B</td>\n",
       "    </tr>\n",
       "    <tr>\n",
       "      <th>1</th>\n",
       "      <td>2804400009</td>\n",
       "      <td>3642806036</td>\n",
       "      <td>2019-08-15</td>\n",
       "      <td>730</td>\n",
       "      <td>B</td>\n",
       "    </tr>\n",
       "    <tr>\n",
       "      <th>2</th>\n",
       "      <td>2961555356</td>\n",
       "      <td>4069496402</td>\n",
       "      <td>2019-08-15</td>\n",
       "      <td>400</td>\n",
       "      <td>A</td>\n",
       "    </tr>\n",
       "  </tbody>\n",
       "</table>\n",
       "</div>"
      ],
      "text/plain": [
       "   transactionId   visitorId        date  revenue group\n",
       "0     3667963787  3312258926  2019-08-15     1650     B\n",
       "1     2804400009  3642806036  2019-08-15      730     B\n",
       "2     2961555356  4069496402  2019-08-15      400     A"
      ]
     },
     "execution_count": 139,
     "metadata": {},
     "output_type": "execute_result"
    }
   ],
   "source": [
    "orders_df = pd.read_csv(\"orders.csv\")\n",
    "visitors_df = pd.read_csv(\"visitors.csv\")\n",
    "\n",
    "orders_df.head(3)"
   ]
  },
  {
   "cell_type": "code",
   "execution_count": 140,
   "id": "fb8a3022-5bbe-49e4-a1f0-a9add1f1b1ce",
   "metadata": {},
   "outputs": [
    {
     "data": {
      "text/html": [
       "<div>\n",
       "<style scoped>\n",
       "    .dataframe tbody tr th:only-of-type {\n",
       "        vertical-align: middle;\n",
       "    }\n",
       "\n",
       "    .dataframe tbody tr th {\n",
       "        vertical-align: top;\n",
       "    }\n",
       "\n",
       "    .dataframe thead th {\n",
       "        text-align: right;\n",
       "    }\n",
       "</style>\n",
       "<table border=\"1\" class=\"dataframe\">\n",
       "  <thead>\n",
       "    <tr style=\"text-align: right;\">\n",
       "      <th></th>\n",
       "      <th>date</th>\n",
       "      <th>group</th>\n",
       "      <th>visitors</th>\n",
       "    </tr>\n",
       "  </thead>\n",
       "  <tbody>\n",
       "    <tr>\n",
       "      <th>0</th>\n",
       "      <td>2019-08-01</td>\n",
       "      <td>A</td>\n",
       "      <td>719</td>\n",
       "    </tr>\n",
       "    <tr>\n",
       "      <th>1</th>\n",
       "      <td>2019-08-02</td>\n",
       "      <td>A</td>\n",
       "      <td>619</td>\n",
       "    </tr>\n",
       "    <tr>\n",
       "      <th>2</th>\n",
       "      <td>2019-08-03</td>\n",
       "      <td>A</td>\n",
       "      <td>507</td>\n",
       "    </tr>\n",
       "  </tbody>\n",
       "</table>\n",
       "</div>"
      ],
      "text/plain": [
       "         date group  visitors\n",
       "0  2019-08-01     A       719\n",
       "1  2019-08-02     A       619\n",
       "2  2019-08-03     A       507"
      ]
     },
     "execution_count": 140,
     "metadata": {},
     "output_type": "execute_result"
    }
   ],
   "source": [
    "visitors_df.head(3)"
   ]
  },
  {
   "cell_type": "code",
   "execution_count": 143,
   "id": "9c8faa89-c7ae-4fde-b624-acf51c2a122d",
   "metadata": {},
   "outputs": [
    {
     "name": "stdout",
     "output_type": "stream",
     "text": [
      "\n",
      "Total visitors by group:\n",
      "group\n",
      "A    18736\n",
      "B    18916\n",
      "Name: visitors, dtype: int64\n"
     ]
    }
   ],
   "source": [
    "# visitors by each group\n",
    "visitors_by_group = visitors_df.groupby('group')['visitors'].sum()\n",
    "\n",
    "print(\"\\nTotal visitors by group:\")\n",
    "print(visitors_by_group)"
   ]
  },
  {
   "cell_type": "code",
   "execution_count": 145,
   "id": "8c9cb8df-4734-4a69-89d0-2a519af5c058",
   "metadata": {},
   "outputs": [
    {
     "name": "stdout",
     "output_type": "stream",
     "text": [
      "\n",
      "Conversion rate by group:\n",
      "group\n",
      "A    0.164097\n",
      "B    0.164077\n",
      "dtype: float64\n"
     ]
    }
   ],
   "source": [
    "merged_data = pd.merge(orders_df, visitors_df, on=['date', 'group'], how='left')\n",
    "\n",
    "# CR by each group\n",
    "conversion_rate_by_group = merged_data.groupby('group').apply(lambda x: x['transactionId'].nunique() / x['visitors'].sum())\n",
    "\n",
    "print(\"\\nConversion rate by group:\")\n",
    "print(conversion_rate_by_group)"
   ]
  },
  {
   "cell_type": "markdown",
   "id": "d4b20505-37b4-46c7-9d66-99f76caac081",
   "metadata": {},
   "source": [
    "### Sample size based on orders\n",
    "If the goal is to measure the impact of changes on conversion metrics (e.g., increasing the number of successful orders), \n",
    "\n",
    "then calculating the sample size based on orders may be more appropriate:"
   ]
  },
  {
   "cell_type": "code",
   "execution_count": 162,
   "id": "8d34a78d-7086-4619-8162-72e90da7cb22",
   "metadata": {},
   "outputs": [
    {
     "name": "stdout",
     "output_type": "stream",
     "text": [
      "The required sample size for the A/B test based on transactions is: 3586475\n"
     ]
    }
   ],
   "source": [
    "import numpy as np\n",
    "from scipy.stats import norm\n",
    "from statsmodels.stats.power import TTestIndPower\n",
    "\n",
    "# Calculate conversion rate for each group based on visitors\n",
    "conversion_rate_by_group = merged_data.groupby('group').apply(lambda x: x['transactionId'].nunique() / x['visitors'].sum())\n",
    "\n",
    "# Calculate pooled conversion rate\n",
    "pooled_conversion_rate = merged_data['transactionId'].nunique() / merged_data['visitors'].sum()\n",
    "\n",
    "# Calculate standard error for each group based on visitors\n",
    "std_err_by_group = merged_data.groupby('group').apply(lambda x: np.sqrt(pooled_conversion_rate * (1 - pooled_conversion_rate) * (1 / x['visitors'].sum() + 1 / x['visitors'].sum())))\n",
    "\n",
    "# Calculate effect size based on visitor conversion rates\n",
    "effect_size = (conversion_rate_by_group['B'] - conversion_rate_by_group['A']) / std_err_by_group.mean()\n",
    "\n",
    "# Set parameters for sample size calculation\n",
    "alpha = 0.05     # Significance level\n",
    "power = 0.8      # Desired statistical power\n",
    "\n",
    "# Initialize TTestIndPower object\n",
    "power_analysis = TTestIndPower()\n",
    "\n",
    "# Calculate sample size based on visitors\n",
    "sample_size_visitors = power_analysis.solve_power(effect_size=effect_size, \n",
    "                                                  alpha=alpha, \n",
    "                                                  power=power, \n",
    "                                                  ratio=1,  # Equal sample sizes for both groups in A/B test\n",
    "                                                  alternative='two-sided')\n",
    "\n",
    "print(\"The required sample size for the A/B test based on transactions is:\", round(sample_size_visitors))"
   ]
  },
  {
   "cell_type": "code",
   "execution_count": null,
   "id": "c686bb75-153c-4f7a-bed3-560a722425fd",
   "metadata": {},
   "outputs": [],
   "source": []
  },
  {
   "cell_type": "markdown",
   "id": "53d38c25-1d4e-4eab-a323-d90a6b2e9ec1",
   "metadata": {},
   "source": [
    "### Sample size based on visitors\n",
    "if the goal is to assess the impact of changes on user behavior overall (e.g., Acquision of new visitors), it may be better to use the sample size based on visitors."
   ]
  },
  {
   "cell_type": "code",
   "execution_count": 163,
   "id": "4822b5e0-5d65-41e7-9269-071cac6ac805",
   "metadata": {},
   "outputs": [
    {
     "name": "stdout",
     "output_type": "stream",
     "text": [
      "The required sample size for the A/B test based on visitors is: 2938\n"
     ]
    }
   ],
   "source": [
    "# Calculate conversion rate for each group based on visitors\n",
    "conversion_rate_by_group = merged_data.groupby('group').apply(lambda x: x['transactionId'].nunique() / x['visitors'].sum())\n",
    "\n",
    "# Calculate pooled conversion rate based on visitors\n",
    "pooled_conversion_rate = merged_data['transactionId'].nunique() / merged_data['visitors'].sum()\n",
    "\n",
    "# Calculate standard error for each group based on visitors\n",
    "std_err_by_group = merged_data.groupby('group').apply(lambda x: np.sqrt(pooled_conversion_rate * (1 - pooled_conversion_rate) / x['visitors'].sum()))\n",
    "\n",
    "# Calculate effect size based on visitor conversion rates\n",
    "effect_size = (conversion_rate_by_group['B'] - conversion_rate_by_group['A']) / std_err_by_group.mean()\n",
    "\n",
    "# Set parameters for sample size calculation\n",
    "alpha = 0.05     # Significance level\n",
    "power = 0.8      # Desired statistical power\n",
    "\n",
    "# Calculate Z-score for desired significance level\n",
    "Z = norm.ppf(1 - alpha/2)\n",
    "\n",
    "# Calculate sample size based on visitors\n",
    "sample_size_visitors = (2 * pooled_conversion_rate * (1 - pooled_conversion_rate) * (Z + norm.ppf(power))**2) / effect_size**2\n",
    "\n",
    "print(\"The required sample size for the A/B test based on visitors is:\", round(sample_size_visitors))"
   ]
  },
  {
   "cell_type": "code",
   "execution_count": null,
   "id": "bfc76ebd-8d87-48cb-a1c5-45fd7d9cf654",
   "metadata": {},
   "outputs": [],
   "source": []
  },
  {
   "cell_type": "markdown",
   "id": "3a962660-d532-4aea-b8c5-e720f44901a5",
   "metadata": {},
   "source": [
    "#### What should be included in the experiment brief?"
   ]
  },
  {
   "cell_type": "markdown",
   "id": "b94f53d1-5d6f-4da9-a5b6-8fe9ddd18727",
   "metadata": {},
   "source": [
    "**Objectives**: Need to be stated why the experiment is happening and what you hope to achieve.\n",
    "\n",
    "**Hypotheses**: Need to be outlined the specific assumptions you're testing with the experiment.\n",
    "\n",
    "**Groups**: Need to be described the different groups involved, such as the treatment group and the control group.\n",
    "\n",
    "**Metrics**: Need to be defined the key measurements you'll use to determine the experiment's success.\n",
    "\n",
    "**Methodology**: Need to be explain how you'll conduct the experiment, including the duration and any specific procedures.\n",
    "\n",
    "**Timeline**: Need to be provided a schedule for when each part of the experiment will happen.\n",
    "\n",
    "**Risks**: Need to be identified potential problems and how you plan to deal with them.\n",
    "\n",
    "**Stakeholders**: Need to be listed the people involved and what they're responsible for."
   ]
  },
  {
   "cell_type": "code",
   "execution_count": null,
   "id": "11ba2abc-6773-4fdb-bc03-45ff297bb421",
   "metadata": {},
   "outputs": [],
   "source": []
  },
  {
   "cell_type": "markdown",
   "id": "00520a82-e3d2-4451-8676-916824195332",
   "metadata": {},
   "source": [
    "#### How are experiment metrics defined, and what qualities should experiment metrics possess?"
   ]
  },
  {
   "cell_type": "markdown",
   "id": "1118a798-a9ab-424b-acb6-a680998364d9",
   "metadata": {},
   "source": [
    "##### Primary metrics:\n",
    "**Conversion Rate**: The percentage of website visitors who make a purchase. It directly reflects the primary goal of the experiment, which is to increase sales.\n",
    "    \n",
    "**Average Order Value (AOV)**: The average amount of money spent by customers in a single transaction. AOV is crucial for understanding the revenue generated by each transaction.\n",
    "\n",
    "##### Secondary Metrics\n",
    " - **Click-Through Rate (CTR)**: The percentage of website visitors who click on a specific link or button. While not directly related to revenue, CTR can provide insights into user engagement and interaction with the website.\n",
    " \n",
    " - **Bounce Rate**: The percentage of visitors who leave the website without taking any action. A high bounce rate may indicate a poor user experience or ineffective website design.\n",
    "\n"
   ]
  },
  {
   "cell_type": "markdown",
   "id": "648f2144-0b1c-4b49-8a12-28b5fd94af54",
   "metadata": {},
   "source": [
    "#### How are experiment metrics defined, and what qualities should experiment metrics possess?"
   ]
  },
  {
   "cell_type": "markdown",
   "id": "e461ae33-e226-4dc9-baf3-42e360639210",
   "metadata": {},
   "source": [
    "**Relevance**: Metrics should directly measure the desired outcomes of the experiment.\n",
    "\n",
    "**Validity**: Metrics should accurately reflect user behavior and business performance.\n",
    "\n",
    "**Reliability**: Metrics should produce consistent results over time and conditions.\n",
    "\n",
    "**Sensitivity**: Metrics should detect meaningful changes in response to interventions.\n",
    "\n",
    "**Actionability**: Insights from metrics should guide decision-making and optimizations.\n",
    "\n",
    "**Accessibility**: Metrics should be easily accessible and interpretable by stakeholders.\n"
   ]
  },
  {
   "cell_type": "code",
   "execution_count": null,
   "id": "98533c40-1070-42db-b4e5-4ba0df90f7d9",
   "metadata": {},
   "outputs": [],
   "source": []
  }
 ],
 "metadata": {
  "kernelspec": {
   "display_name": "Python 3 (ipykernel)",
   "language": "python",
   "name": "python3"
  },
  "language_info": {
   "codemirror_mode": {
    "name": "ipython",
    "version": 3
   },
   "file_extension": ".py",
   "mimetype": "text/x-python",
   "name": "python",
   "nbconvert_exporter": "python",
   "pygments_lexer": "ipython3",
   "version": "3.11.7"
  }
 },
 "nbformat": 4,
 "nbformat_minor": 5
}
