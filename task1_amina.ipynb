{
 "cells": [
  {
   "cell_type": "code",
   "execution_count": 2,
   "metadata": {
    "id": "sWGNLVQPGa0o"
   },
   "outputs": [],
   "source": [
    "import pandas as pd\n",
    "import numpy as np\n",
    "pd.set_option('display.max_columns', None)\n",
    "import phik\n",
    "from phik.report import plot_correlation_matrix\n",
    "from phik import report"
   ]
  },
  {
   "cell_type": "markdown",
   "metadata": {
    "id": "k-zByW6dSHsy"
   },
   "source": [
    "The key aspect of ride-hailing is **upfront pricing**, which works the following way. \n",
    "*   First, it **predicts the price** for a ride **based on** predicted distance and time. This price is what you see on the screen of the phone before ordering a ride. \n",
    "*   Second, if **the metered price** based on actual distance and time **differs** a lot **from the predicted one**, the upfront price switches to the metered price.'A lot' means by more than 20%. \n",
    "\n",
    "\n",
    "---\n",
    "For example, suppose you want to make a ride that upfront price predicts to cost 5 euros. \n",
    "If the **metered price is between 4 and 6 euros** - the rider pays 5 euros, otherwise the metered price.\n",
    "\n",
    "\n",
    "---\n",
    "We would like to **improve the upfront pricing precision**. Kindly analyze the data and **identify top opportunities** for that. Could you name the top one opportunity? \n",
    "\n"
   ]
  },
  {
   "cell_type": "code",
   "execution_count": 28,
   "metadata": {
    "id": "2fUUMGkERV_L"
   },
   "outputs": [
    {
     "name": "stdout",
     "output_type": "stream",
     "text": [
      "(4943, 26)\n"
     ]
    },
    {
     "data": {
      "text/html": [
       "<div>\n",
       "<style scoped>\n",
       "    .dataframe tbody tr th:only-of-type {\n",
       "        vertical-align: middle;\n",
       "    }\n",
       "\n",
       "    .dataframe tbody tr th {\n",
       "        vertical-align: top;\n",
       "    }\n",
       "\n",
       "    .dataframe thead th {\n",
       "        text-align: right;\n",
       "    }\n",
       "</style>\n",
       "<table border=\"1\" class=\"dataframe\">\n",
       "  <thead>\n",
       "    <tr style=\"text-align: right;\">\n",
       "      <th></th>\n",
       "      <th>order_id_new</th>\n",
       "      <th>order_try_id_new</th>\n",
       "      <th>calc_created</th>\n",
       "      <th>metered_price</th>\n",
       "      <th>upfront_price</th>\n",
       "      <th>distance</th>\n",
       "      <th>duration</th>\n",
       "      <th>gps_confidence</th>\n",
       "      <th>entered_by</th>\n",
       "      <th>b_state</th>\n",
       "      <th>dest_change_number</th>\n",
       "      <th>prediction_price_type</th>\n",
       "      <th>predicted_distance</th>\n",
       "      <th>predicted_duration</th>\n",
       "      <th>change_reason_pricing</th>\n",
       "      <th>ticket_id_new</th>\n",
       "      <th>device_token</th>\n",
       "      <th>rider_app_version</th>\n",
       "      <th>order_state</th>\n",
       "      <th>order_try_state</th>\n",
       "      <th>driver_app_version</th>\n",
       "      <th>driver_device_uid_new</th>\n",
       "      <th>device_name</th>\n",
       "      <th>eu_indicator</th>\n",
       "      <th>overpaid_ride_ticket</th>\n",
       "      <th>fraud_score</th>\n",
       "    </tr>\n",
       "  </thead>\n",
       "  <tbody>\n",
       "    <tr>\n",
       "      <th>0</th>\n",
       "      <td>22.0</td>\n",
       "      <td>22.0</td>\n",
       "      <td>2020-02-02 03:37:30.573</td>\n",
       "      <td>4.04</td>\n",
       "      <td>10.0</td>\n",
       "      <td>2839.0</td>\n",
       "      <td>700.0</td>\n",
       "      <td>1.0</td>\n",
       "      <td>client</td>\n",
       "      <td>finished</td>\n",
       "      <td>1.0</td>\n",
       "      <td>upfront</td>\n",
       "      <td>13384.0</td>\n",
       "      <td>1091.0</td>\n",
       "      <td>NaN</td>\n",
       "      <td>1376.0</td>\n",
       "      <td>NaN</td>\n",
       "      <td>CI.4.17</td>\n",
       "      <td>finished</td>\n",
       "      <td>finished</td>\n",
       "      <td>DA.4.37</td>\n",
       "      <td>1596.0</td>\n",
       "      <td>Xiaomi Redmi 6</td>\n",
       "      <td>1.0</td>\n",
       "      <td>0.0</td>\n",
       "      <td>-1383.0</td>\n",
       "    </tr>\n",
       "    <tr>\n",
       "      <th>1</th>\n",
       "      <td>618.0</td>\n",
       "      <td>618.0</td>\n",
       "      <td>2020-02-08 02:26:18.924</td>\n",
       "      <td>6.09</td>\n",
       "      <td>3.6</td>\n",
       "      <td>5698.0</td>\n",
       "      <td>493.0</td>\n",
       "      <td>1.0</td>\n",
       "      <td>client</td>\n",
       "      <td>finished</td>\n",
       "      <td>1.0</td>\n",
       "      <td>upfront</td>\n",
       "      <td>2286.0</td>\n",
       "      <td>360.0</td>\n",
       "      <td>NaN</td>\n",
       "      <td>2035.0</td>\n",
       "      <td>NaN</td>\n",
       "      <td>CA.5.43</td>\n",
       "      <td>finished</td>\n",
       "      <td>finished</td>\n",
       "      <td>DA.4.39</td>\n",
       "      <td>1578.0</td>\n",
       "      <td>Samsung SM-G965F</td>\n",
       "      <td>1.0</td>\n",
       "      <td>0.0</td>\n",
       "      <td>NaN</td>\n",
       "    </tr>\n",
       "    <tr>\n",
       "      <th>2</th>\n",
       "      <td>657.0</td>\n",
       "      <td>657.0</td>\n",
       "      <td>2020-02-08 11:50:35.423</td>\n",
       "      <td>4.32</td>\n",
       "      <td>3.5</td>\n",
       "      <td>4426.0</td>\n",
       "      <td>695.0</td>\n",
       "      <td>1.0</td>\n",
       "      <td>client</td>\n",
       "      <td>finished</td>\n",
       "      <td>1.0</td>\n",
       "      <td>upfront</td>\n",
       "      <td>4101.0</td>\n",
       "      <td>433.0</td>\n",
       "      <td>NaN</td>\n",
       "      <td>2222.0</td>\n",
       "      <td>NaN</td>\n",
       "      <td>CA.5.43</td>\n",
       "      <td>finished</td>\n",
       "      <td>finished</td>\n",
       "      <td>DA.4.37</td>\n",
       "      <td>951.0</td>\n",
       "      <td>Samsung SM-A530F</td>\n",
       "      <td>1.0</td>\n",
       "      <td>0.0</td>\n",
       "      <td>-166.0</td>\n",
       "    </tr>\n",
       "  </tbody>\n",
       "</table>\n",
       "</div>"
      ],
      "text/plain": [
       "   order_id_new  order_try_id_new            calc_created  metered_price  \\\n",
       "0          22.0              22.0 2020-02-02 03:37:30.573           4.04   \n",
       "1         618.0             618.0 2020-02-08 02:26:18.924           6.09   \n",
       "2         657.0             657.0 2020-02-08 11:50:35.423           4.32   \n",
       "\n",
       "   upfront_price  distance  duration  gps_confidence entered_by   b_state  \\\n",
       "0           10.0    2839.0     700.0             1.0     client  finished   \n",
       "1            3.6    5698.0     493.0             1.0     client  finished   \n",
       "2            3.5    4426.0     695.0             1.0     client  finished   \n",
       "\n",
       "   dest_change_number prediction_price_type  predicted_distance  \\\n",
       "0                 1.0               upfront             13384.0   \n",
       "1                 1.0               upfront              2286.0   \n",
       "2                 1.0               upfront              4101.0   \n",
       "\n",
       "   predicted_duration change_reason_pricing  ticket_id_new  device_token  \\\n",
       "0              1091.0                   NaN         1376.0           NaN   \n",
       "1               360.0                   NaN         2035.0           NaN   \n",
       "2               433.0                   NaN         2222.0           NaN   \n",
       "\n",
       "  rider_app_version order_state order_try_state driver_app_version  \\\n",
       "0           CI.4.17    finished        finished            DA.4.37   \n",
       "1           CA.5.43    finished        finished            DA.4.39   \n",
       "2           CA.5.43    finished        finished            DA.4.37   \n",
       "\n",
       "   driver_device_uid_new       device_name  eu_indicator  \\\n",
       "0                 1596.0    Xiaomi Redmi 6           1.0   \n",
       "1                 1578.0  Samsung SM-G965F           1.0   \n",
       "2                  951.0  Samsung SM-A530F           1.0   \n",
       "\n",
       "   overpaid_ride_ticket  fraud_score  \n",
       "0                   0.0      -1383.0  \n",
       "1                   0.0          NaN  \n",
       "2                   0.0       -166.0  "
      ]
     },
     "execution_count": 28,
     "metadata": {},
     "output_type": "execute_result"
    }
   ],
   "source": [
    "df = pd.read_excel('Test.csv.xlsx')\n",
    "print(df.shape)\n",
    "df.head(3)"
   ]
  },
  {
   "cell_type": "code",
   "execution_count": 29,
   "metadata": {
    "id": "TwpkIeQeYhLz"
   },
   "outputs": [
    {
     "data": {
      "text/plain": [
       "device_token             100.0\n",
       "change_reason_pricing     94.0\n",
       "fraud_score               56.0\n",
       "upfront_price             31.0\n",
       "prediction_price_type      0.0\n",
       "predicted_distance         0.0\n",
       "predicted_duration         0.0\n",
       "metered_price              0.0\n",
       "rider_app_version          0.0\n",
       "gps_confidence             0.0\n",
       "dtype: float64"
      ]
     },
     "execution_count": 29,
     "metadata": {},
     "output_type": "execute_result"
    }
   ],
   "source": [
    "# % of null values in columns   \n",
    "round(df.isna().mean().sort_values(ascending=False)*100).head(10)"
   ]
  },
  {
   "cell_type": "code",
   "execution_count": 30,
   "metadata": {
    "id": "tRGQphNXbV2u"
   },
   "outputs": [
    {
     "data": {
      "text/plain": [
       "((4943, 24), (4943, 24))"
      ]
     },
     "execution_count": 30,
     "metadata": {},
     "output_type": "execute_result"
    }
   ],
   "source": [
    "# consider the info above let's get rid of 'device_token' and 'change_reason_pricing' columns\n",
    "df = df.drop(columns =['device_token', 'change_reason_pricing'])\n",
    "\n",
    "df.drop_duplicates().shape, df.shape"
   ]
  },
  {
   "cell_type": "code",
   "execution_count": 31,
   "metadata": {
    "id": "Vf1MB9iMb0am"
   },
   "outputs": [
    {
     "data": {
      "text/plain": [
       "upfront                        0.694315\n",
       "prediction                     0.258750\n",
       "upfront_destination_changed    0.042080\n",
       "upfront_waypoint_changed       0.000809\n",
       "Name: prediction_price_type, dtype: float64"
      ]
     },
     "execution_count": 31,
     "metadata": {},
     "output_type": "execute_result"
    }
   ],
   "source": [
    "df['prediction_price_type'].value_counts() / df.shape[0]"
   ]
  },
  {
   "cell_type": "markdown",
   "metadata": {
    "id": "GagpS75o1xYC"
   },
   "source": [
    "in 70% cases of the data the 'upfront' prediction_price_type was applied."
   ]
  },
  {
   "cell_type": "markdown",
   "metadata": {
    "id": "DEvxLLMzMulZ"
   },
   "source": [
    "### Let see correlations of the values when metered_price differs from the upfront_price by 20% to other columns\n",
    "\n"
   ]
  },
  {
   "cell_type": "code",
   "execution_count": 32,
   "metadata": {
    "id": "N5DTchg8SxpL"
   },
   "outputs": [],
   "source": [
    "df =df[~df.upfront_price.isna()].copy() #consider only nonull values\n",
    "df_next =df[df.upfront_price.isna()].copy()"
   ]
  },
  {
   "cell_type": "code",
   "execution_count": 33,
   "metadata": {
    "id": "T-kDbiy9hpHa"
   },
   "outputs": [],
   "source": [
    "df['price_diff'] = abs(df['metered_price'] - df['upfront_price']) /df['metered_price']\n",
    "\n",
    "###! diff_more_20 - when the metered price differs from the upfront_price by 20%\n",
    "df['diff_more_20'] = (df['price_diff'] >= 0.20) * 1 "
   ]
  },
  {
   "cell_type": "code",
   "execution_count": 34,
   "metadata": {
    "id": "pdxot_xsOWe6"
   },
   "outputs": [
    {
     "data": {
      "text/plain": [
       "0    2045\n",
       "1    1364\n",
       "Name: diff_more_20, dtype: int64"
      ]
     },
     "execution_count": 34,
     "metadata": {},
     "output_type": "execute_result"
    }
   ],
   "source": [
    "df.diff_more_20.value_counts() # differs by 20% in 1364 rows"
   ]
  },
  {
   "cell_type": "code",
   "execution_count": 35,
   "metadata": {
    "id": "HWOZt0DWVLm4"
   },
   "outputs": [
    {
     "data": {
      "text/plain": [
       "0.4001173364623057"
      ]
     },
     "execution_count": 35,
     "metadata": {},
     "output_type": "execute_result"
    }
   ],
   "source": [
    "df['diff_more_20'].mean() # differs by 20% in 40% of non null upfront prices"
   ]
  },
  {
   "cell_type": "code",
   "execution_count": 36,
   "metadata": {
    "id": "I5p05v2CklPv"
   },
   "outputs": [
    {
     "name": "stdout",
     "output_type": "stream",
     "text": [
      "interval columns not set, guessing: ['order_id_new', 'order_try_id_new', 'metered_price', 'upfront_price', 'distance', 'duration', 'gps_confidence', 'dest_change_number', 'predicted_distance', 'predicted_duration', 'ticket_id_new', 'driver_device_uid_new', 'eu_indicator', 'overpaid_ride_ticket', 'fraud_score', 'price_diff', 'diff_more_20']\n"
     ]
    },
    {
     "data": {
      "text/html": [
       "<style type=\"text/css\">\n",
       "#T_d693a_row0_col0, #T_d693a_row1_col0 {\n",
       "  background-color: #49006a;\n",
       "  color: #f1f1f1;\n",
       "}\n",
       "#T_d693a_row2_col0 {\n",
       "  background-color: #f986ac;\n",
       "  color: #f1f1f1;\n",
       "}\n",
       "#T_d693a_row3_col0 {\n",
       "  background-color: #fbafba;\n",
       "  color: #000000;\n",
       "}\n",
       "#T_d693a_row4_col0 {\n",
       "  background-color: #fbb2ba;\n",
       "  color: #000000;\n",
       "}\n",
       "#T_d693a_row5_col0 {\n",
       "  background-color: #fbb8bc;\n",
       "  color: #000000;\n",
       "}\n",
       "#T_d693a_row6_col0 {\n",
       "  background-color: #fccbc6;\n",
       "  color: #000000;\n",
       "}\n",
       "#T_d693a_row7_col0 {\n",
       "  background-color: #fdd5d1;\n",
       "  color: #000000;\n",
       "}\n",
       "#T_d693a_row8_col0, #T_d693a_row9_col0 {\n",
       "  background-color: #fdd8d5;\n",
       "  color: #000000;\n",
       "}\n",
       "#T_d693a_row10_col0 {\n",
       "  background-color: #fddad7;\n",
       "  color: #000000;\n",
       "}\n",
       "#T_d693a_row11_col0 {\n",
       "  background-color: #fdddda;\n",
       "  color: #000000;\n",
       "}\n",
       "#T_d693a_row12_col0, #T_d693a_row13_col0 {\n",
       "  background-color: #fde1de;\n",
       "  color: #000000;\n",
       "}\n",
       "#T_d693a_row14_col0, #T_d693a_row15_col0 {\n",
       "  background-color: #fde3e0;\n",
       "  color: #000000;\n",
       "}\n",
       "#T_d693a_row16_col0 {\n",
       "  background-color: #feebe8;\n",
       "  color: #000000;\n",
       "}\n",
       "#T_d693a_row17_col0 {\n",
       "  background-color: #feeeeb;\n",
       "  color: #000000;\n",
       "}\n",
       "#T_d693a_row18_col0 {\n",
       "  background-color: #fef1ed;\n",
       "  color: #000000;\n",
       "}\n",
       "#T_d693a_row19_col0, #T_d693a_row20_col0, #T_d693a_row21_col0, #T_d693a_row22_col0 {\n",
       "  background-color: #fff7f3;\n",
       "  color: #000000;\n",
       "}\n",
       "</style>\n",
       "<table id=\"T_d693a\">\n",
       "  <thead>\n",
       "    <tr>\n",
       "      <th class=\"blank level0\" >&nbsp;</th>\n",
       "      <th id=\"T_d693a_level0_col0\" class=\"col_heading level0 col0\" >diff_more_20</th>\n",
       "    </tr>\n",
       "  </thead>\n",
       "  <tbody>\n",
       "    <tr>\n",
       "      <th id=\"T_d693a_level0_row0\" class=\"row_heading level0 row0\" >diff_more_20</th>\n",
       "      <td id=\"T_d693a_row0_col0\" class=\"data row0 col0\" >1.000000</td>\n",
       "    </tr>\n",
       "    <tr>\n",
       "      <th id=\"T_d693a_level0_row1\" class=\"row_heading level0 row1\" >calc_created</th>\n",
       "      <td id=\"T_d693a_row1_col0\" class=\"data row1 col0\" >1.000000</td>\n",
       "    </tr>\n",
       "    <tr>\n",
       "      <th id=\"T_d693a_level0_row2\" class=\"row_heading level0 row2\" >device_name</th>\n",
       "      <td id=\"T_d693a_row2_col0\" class=\"data row2 col0\" >0.429982</td>\n",
       "    </tr>\n",
       "    <tr>\n",
       "      <th id=\"T_d693a_level0_row3\" class=\"row_heading level0 row3\" >gps_confidence</th>\n",
       "      <td id=\"T_d693a_row3_col0\" class=\"data row3 col0\" >0.323787</td>\n",
       "    </tr>\n",
       "    <tr>\n",
       "      <th id=\"T_d693a_level0_row4\" class=\"row_heading level0 row4\" >duration</th>\n",
       "      <td id=\"T_d693a_row4_col0\" class=\"data row4 col0\" >0.314773</td>\n",
       "    </tr>\n",
       "    <tr>\n",
       "      <th id=\"T_d693a_level0_row5\" class=\"row_heading level0 row5\" >eu_indicator</th>\n",
       "      <td id=\"T_d693a_row5_col0\" class=\"data row5 col0\" >0.296276</td>\n",
       "    </tr>\n",
       "    <tr>\n",
       "      <th id=\"T_d693a_level0_row6\" class=\"row_heading level0 row6\" >metered_price</th>\n",
       "      <td id=\"T_d693a_row6_col0\" class=\"data row6 col0\" >0.224632</td>\n",
       "    </tr>\n",
       "    <tr>\n",
       "      <th id=\"T_d693a_level0_row7\" class=\"row_heading level0 row7\" >driver_app_version</th>\n",
       "      <td id=\"T_d693a_row7_col0\" class=\"data row7 col0\" >0.178249</td>\n",
       "    </tr>\n",
       "    <tr>\n",
       "      <th id=\"T_d693a_level0_row8\" class=\"row_heading level0 row8\" >order_try_id_new</th>\n",
       "      <td id=\"T_d693a_row8_col0\" class=\"data row8 col0\" >0.162480</td>\n",
       "    </tr>\n",
       "    <tr>\n",
       "      <th id=\"T_d693a_level0_row9\" class=\"row_heading level0 row9\" >order_id_new</th>\n",
       "      <td id=\"T_d693a_row9_col0\" class=\"data row9 col0\" >0.162480</td>\n",
       "    </tr>\n",
       "    <tr>\n",
       "      <th id=\"T_d693a_level0_row10\" class=\"row_heading level0 row10\" >overpaid_ride_ticket</th>\n",
       "      <td id=\"T_d693a_row10_col0\" class=\"data row10 col0\" >0.154353</td>\n",
       "    </tr>\n",
       "    <tr>\n",
       "      <th id=\"T_d693a_level0_row11\" class=\"row_heading level0 row11\" >predicted_duration</th>\n",
       "      <td id=\"T_d693a_row11_col0\" class=\"data row11 col0\" >0.138156</td>\n",
       "    </tr>\n",
       "    <tr>\n",
       "      <th id=\"T_d693a_level0_row12\" class=\"row_heading level0 row12\" >ticket_id_new</th>\n",
       "      <td id=\"T_d693a_row12_col0\" class=\"data row12 col0\" >0.123982</td>\n",
       "    </tr>\n",
       "    <tr>\n",
       "      <th id=\"T_d693a_level0_row13\" class=\"row_heading level0 row13\" >rider_app_version</th>\n",
       "      <td id=\"T_d693a_row13_col0\" class=\"data row13 col0\" >0.118679</td>\n",
       "    </tr>\n",
       "    <tr>\n",
       "      <th id=\"T_d693a_level0_row14\" class=\"row_heading level0 row14\" >dest_change_number</th>\n",
       "      <td id=\"T_d693a_row14_col0\" class=\"data row14 col0\" >0.111691</td>\n",
       "    </tr>\n",
       "    <tr>\n",
       "      <th id=\"T_d693a_level0_row15\" class=\"row_heading level0 row15\" >distance</th>\n",
       "      <td id=\"T_d693a_row15_col0\" class=\"data row15 col0\" >0.109422</td>\n",
       "    </tr>\n",
       "    <tr>\n",
       "      <th id=\"T_d693a_level0_row16\" class=\"row_heading level0 row16\" >price_diff</th>\n",
       "      <td id=\"T_d693a_row16_col0\" class=\"data row16 col0\" >0.065241</td>\n",
       "    </tr>\n",
       "    <tr>\n",
       "      <th id=\"T_d693a_level0_row17\" class=\"row_heading level0 row17\" >entered_by</th>\n",
       "      <td id=\"T_d693a_row17_col0\" class=\"data row17 col0\" >0.047917</td>\n",
       "    </tr>\n",
       "    <tr>\n",
       "      <th id=\"T_d693a_level0_row18\" class=\"row_heading level0 row18\" >upfront_price</th>\n",
       "      <td id=\"T_d693a_row18_col0\" class=\"data row18 col0\" >0.037846</td>\n",
       "    </tr>\n",
       "    <tr>\n",
       "      <th id=\"T_d693a_level0_row19\" class=\"row_heading level0 row19\" >predicted_distance</th>\n",
       "      <td id=\"T_d693a_row19_col0\" class=\"data row19 col0\" >0.000000</td>\n",
       "    </tr>\n",
       "    <tr>\n",
       "      <th id=\"T_d693a_level0_row20\" class=\"row_heading level0 row20\" >order_state</th>\n",
       "      <td id=\"T_d693a_row20_col0\" class=\"data row20 col0\" >0.000000</td>\n",
       "    </tr>\n",
       "    <tr>\n",
       "      <th id=\"T_d693a_level0_row21\" class=\"row_heading level0 row21\" >driver_device_uid_new</th>\n",
       "      <td id=\"T_d693a_row21_col0\" class=\"data row21 col0\" >0.000000</td>\n",
       "    </tr>\n",
       "    <tr>\n",
       "      <th id=\"T_d693a_level0_row22\" class=\"row_heading level0 row22\" >fraud_score</th>\n",
       "      <td id=\"T_d693a_row22_col0\" class=\"data row22 col0\" >0.000000</td>\n",
       "    </tr>\n",
       "  </tbody>\n",
       "</table>\n"
      ],
      "text/plain": [
       "<pandas.io.formats.style.Styler at 0x7ff588785460>"
      ]
     },
     "execution_count": 36,
     "metadata": {},
     "output_type": "execute_result"
    }
   ],
   "source": [
    "import warnings\n",
    "warnings.filterwarnings('ignore')\n",
    "\n",
    "corr_matrix = df.phik_matrix()\n",
    "corr_matrix[['diff_more_20']].sort_values(by=['diff_more_20'],ascending=False)\\\n",
    "                                                    .style.background_gradient(cmap='RdPu')"
   ]
  },
  {
   "cell_type": "markdown",
   "metadata": {
    "id": "gVgRjDjTY3qp"
   },
   "source": [
    "## Top opportunity 1"
   ]
  },
  {
   "cell_type": "markdown",
   "metadata": {
    "id": "mJ2GvGWTZ7gL"
   },
   "source": [
    "most correlated (by 0.429982) columns is null **device_name**, lets see more detailed "
   ]
  },
  {
   "cell_type": "code",
   "execution_count": 38,
   "metadata": {
    "id": "3jG2-DTgo6uR"
   },
   "outputs": [
    {
     "data": {
      "text/html": [
       "<div>\n",
       "<style scoped>\n",
       "    .dataframe tbody tr th:only-of-type {\n",
       "        vertical-align: middle;\n",
       "    }\n",
       "\n",
       "    .dataframe tbody tr th {\n",
       "        vertical-align: top;\n",
       "    }\n",
       "\n",
       "    .dataframe thead th {\n",
       "        text-align: right;\n",
       "    }\n",
       "</style>\n",
       "<table border=\"1\" class=\"dataframe\">\n",
       "  <thead>\n",
       "    <tr style=\"text-align: right;\">\n",
       "      <th></th>\n",
       "      <th>count</th>\n",
       "      <th>mean</th>\n",
       "    </tr>\n",
       "    <tr>\n",
       "      <th>device_name</th>\n",
       "      <th></th>\n",
       "      <th></th>\n",
       "    </tr>\n",
       "  </thead>\n",
       "  <tbody>\n",
       "    <tr>\n",
       "      <th>Samsung SM-N950U1</th>\n",
       "      <td>2</td>\n",
       "      <td>1.0</td>\n",
       "    </tr>\n",
       "    <tr>\n",
       "      <th>Samsung SM-N910V</th>\n",
       "      <td>2</td>\n",
       "      <td>1.0</td>\n",
       "    </tr>\n",
       "    <tr>\n",
       "      <th>Samsung SM-J415F</th>\n",
       "      <td>2</td>\n",
       "      <td>1.0</td>\n",
       "    </tr>\n",
       "    <tr>\n",
       "      <th>HUAWEI TRT-L21A</th>\n",
       "      <td>2</td>\n",
       "      <td>1.0</td>\n",
       "    </tr>\n",
       "    <tr>\n",
       "      <th>Xiaomi Redmi Note 5A</th>\n",
       "      <td>1</td>\n",
       "      <td>1.0</td>\n",
       "    </tr>\n",
       "    <tr>\n",
       "      <th>SHARP SH-02J</th>\n",
       "      <td>3</td>\n",
       "      <td>1.0</td>\n",
       "    </tr>\n",
       "    <tr>\n",
       "      <th>TECNO W5 Lite</th>\n",
       "      <td>5</td>\n",
       "      <td>1.0</td>\n",
       "    </tr>\n",
       "    <tr>\n",
       "      <th>TECNO W4</th>\n",
       "      <td>2</td>\n",
       "      <td>1.0</td>\n",
       "    </tr>\n",
       "    <tr>\n",
       "      <th>Samsung SM-J701F</th>\n",
       "      <td>1</td>\n",
       "      <td>1.0</td>\n",
       "    </tr>\n",
       "    <tr>\n",
       "      <th>TECNO W2</th>\n",
       "      <td>3</td>\n",
       "      <td>1.0</td>\n",
       "    </tr>\n",
       "  </tbody>\n",
       "</table>\n",
       "</div>"
      ],
      "text/plain": [
       "                      count  mean\n",
       "device_name                      \n",
       "Samsung SM-N950U1         2   1.0\n",
       "Samsung SM-N910V          2   1.0\n",
       "Samsung SM-J415F          2   1.0\n",
       "HUAWEI TRT-L21A           2   1.0\n",
       "Xiaomi Redmi Note 5A      1   1.0\n",
       "SHARP SH-02J              3   1.0\n",
       "TECNO W5 Lite             5   1.0\n",
       "TECNO W4                  2   1.0\n",
       "Samsung SM-J701F          1   1.0\n",
       "TECNO W2                  3   1.0"
      ]
     },
     "execution_count": 38,
     "metadata": {},
     "output_type": "execute_result"
    }
   ],
   "source": [
    "df.groupby('device_name')['diff_more_20'].agg(['count','mean']).sort_values('mean',ascending=False).head(10)"
   ]
  },
  {
   "cell_type": "code",
   "execution_count": 39,
   "metadata": {
    "id": "bN_GWqX-RQ9Q"
   },
   "outputs": [
    {
     "data": {
      "text/plain": [
       "array(['Xiaomi', 'Samsung', 'Itel', 'HUAWEI', 'TECNO', 'iPhone,',\n",
       "       'TECNO-J', 'HMD', 'BullittGroupLimited', 'Infinix', 'Asus',\n",
       "       'INFINIX', 'LENOVO', 'Sony', 'LGE', 'Wheatek', 'HighScreen',\n",
       "       'Motorola', 'WIKO', 'ZTE', 'Alps', 'KONKA', 'BLU', 'Foxconn',\n",
       "       'TECNO-L', 'OnePlus', 'Blackview', 'Google', 'OPPO', 'ITEL',\n",
       "       'COSMO', 'SHARP', 'TCL', 'CUBOT_P', 'HTC', 'FUJITSU', 'INFINIX-X',\n",
       "       'TECNO_W', 'Welcome', 'Ulefone', 'FISE', 'TECNO-W', 'JUST',\n",
       "       'DOOGEE', 'DIGMA', 'TECNO-C', 'TP-Link', 'OUKITEL', 'Cat',\n",
       "       'Prestigio', 'HTC_Du', 'Coolpad', 'Meizu', 'Lava'], dtype=object)"
      ]
     },
     "execution_count": 39,
     "metadata": {},
     "output_type": "execute_result"
    }
   ],
   "source": [
    "df.device_name.str.split().str.get(0).str.replace('\\d+', '', regex=True).unique()"
   ]
  },
  {
   "cell_type": "code",
   "execution_count": 40,
   "metadata": {
    "id": "pdjDaNMiR1b7"
   },
   "outputs": [],
   "source": [
    "df.device_name = df.device_name.str.split().str.get(0).str.replace('\\d+', '', regex=True)\n",
    "df.loc[df.device_name.str.contains('TECNO'),'device_name'] = 'TECNO MOBILE'"
   ]
  },
  {
   "cell_type": "code",
   "execution_count": 41,
   "metadata": {
    "id": "oaMbQ9YfSfFJ"
   },
   "outputs": [
    {
     "data": {
      "text/html": [
       "<div>\n",
       "<style scoped>\n",
       "    .dataframe tbody tr th:only-of-type {\n",
       "        vertical-align: middle;\n",
       "    }\n",
       "\n",
       "    .dataframe tbody tr th {\n",
       "        vertical-align: top;\n",
       "    }\n",
       "\n",
       "    .dataframe thead th {\n",
       "        text-align: right;\n",
       "    }\n",
       "</style>\n",
       "<table border=\"1\" class=\"dataframe\">\n",
       "  <thead>\n",
       "    <tr style=\"text-align: right;\">\n",
       "      <th></th>\n",
       "      <th>count</th>\n",
       "      <th>mean</th>\n",
       "    </tr>\n",
       "    <tr>\n",
       "      <th>device_name</th>\n",
       "      <th></th>\n",
       "      <th></th>\n",
       "    </tr>\n",
       "  </thead>\n",
       "  <tbody>\n",
       "    <tr>\n",
       "      <th>Samsung</th>\n",
       "      <td>1309</td>\n",
       "      <td>0.355997</td>\n",
       "    </tr>\n",
       "    <tr>\n",
       "      <th>HUAWEI</th>\n",
       "      <td>630</td>\n",
       "      <td>0.365079</td>\n",
       "    </tr>\n",
       "    <tr>\n",
       "      <th>TECNO MOBILE</th>\n",
       "      <td>402</td>\n",
       "      <td>0.582090</td>\n",
       "    </tr>\n",
       "    <tr>\n",
       "      <th>iPhone,</th>\n",
       "      <td>357</td>\n",
       "      <td>0.372549</td>\n",
       "    </tr>\n",
       "    <tr>\n",
       "      <th>Xiaomi</th>\n",
       "      <td>236</td>\n",
       "      <td>0.372881</td>\n",
       "    </tr>\n",
       "    <tr>\n",
       "      <th>HMD</th>\n",
       "      <td>92</td>\n",
       "      <td>0.434783</td>\n",
       "    </tr>\n",
       "    <tr>\n",
       "      <th>INFINIX</th>\n",
       "      <td>65</td>\n",
       "      <td>0.600000</td>\n",
       "    </tr>\n",
       "    <tr>\n",
       "      <th>Itel</th>\n",
       "      <td>41</td>\n",
       "      <td>0.560976</td>\n",
       "    </tr>\n",
       "    <tr>\n",
       "      <th>LGE</th>\n",
       "      <td>37</td>\n",
       "      <td>0.297297</td>\n",
       "    </tr>\n",
       "    <tr>\n",
       "      <th>Sony</th>\n",
       "      <td>37</td>\n",
       "      <td>0.297297</td>\n",
       "    </tr>\n",
       "    <tr>\n",
       "      <th>Infinix</th>\n",
       "      <td>35</td>\n",
       "      <td>0.542857</td>\n",
       "    </tr>\n",
       "    <tr>\n",
       "      <th>BullittGroupLimited</th>\n",
       "      <td>22</td>\n",
       "      <td>0.545455</td>\n",
       "    </tr>\n",
       "    <tr>\n",
       "      <th>LENOVO</th>\n",
       "      <td>21</td>\n",
       "      <td>0.428571</td>\n",
       "    </tr>\n",
       "    <tr>\n",
       "      <th>Blackview</th>\n",
       "      <td>11</td>\n",
       "      <td>0.363636</td>\n",
       "    </tr>\n",
       "    <tr>\n",
       "      <th>ITEL</th>\n",
       "      <td>9</td>\n",
       "      <td>1.000000</td>\n",
       "    </tr>\n",
       "  </tbody>\n",
       "</table>\n",
       "</div>"
      ],
      "text/plain": [
       "                     count      mean\n",
       "device_name                         \n",
       "Samsung               1309  0.355997\n",
       "HUAWEI                 630  0.365079\n",
       "TECNO MOBILE           402  0.582090\n",
       "iPhone,                357  0.372549\n",
       "Xiaomi                 236  0.372881\n",
       "HMD                     92  0.434783\n",
       "INFINIX                 65  0.600000\n",
       "Itel                    41  0.560976\n",
       "LGE                     37  0.297297\n",
       "Sony                    37  0.297297\n",
       "Infinix                 35  0.542857\n",
       "BullittGroupLimited     22  0.545455\n",
       "LENOVO                  21  0.428571\n",
       "Blackview               11  0.363636\n",
       "ITEL                     9  1.000000"
      ]
     },
     "execution_count": 41,
     "metadata": {},
     "output_type": "execute_result"
    }
   ],
   "source": [
    "df.groupby('device_name')['diff_more_20'].agg(['count','mean']).sort_values('count',ascending=False).head(15)"
   ]
  },
  {
   "cell_type": "markdown",
   "metadata": {
    "id": "w9MbS2_XXhgI"
   },
   "source": [
    "### Conclusion\n",
    "---\n",
    "\n",
    "in the table above a list of devices that makes worse the upfront pricing precision. Recommendation is to change type of mobile.\n",
    "\n",
    "---\n",
    "\n"
   ]
  },
  {
   "cell_type": "markdown",
   "metadata": {
    "id": "UF6nnh0NZHSq"
   },
   "source": [
    "## Top opportunity 2 "
   ]
  },
  {
   "cell_type": "markdown",
   "metadata": {
    "id": "p3rqAeYHD1aX"
   },
   "source": [
    "second most correlated (by 0.323787) columns is null **gps_confidence**, lets see more detailed  "
   ]
  },
  {
   "cell_type": "code",
   "execution_count": 42,
   "metadata": {
    "id": "yVVdfN4FjDWM"
   },
   "outputs": [
    {
     "data": {
      "text/html": [
       "<div>\n",
       "<style scoped>\n",
       "    .dataframe tbody tr th:only-of-type {\n",
       "        vertical-align: middle;\n",
       "    }\n",
       "\n",
       "    .dataframe tbody tr th {\n",
       "        vertical-align: top;\n",
       "    }\n",
       "\n",
       "    .dataframe thead th {\n",
       "        text-align: right;\n",
       "    }\n",
       "</style>\n",
       "<table border=\"1\" class=\"dataframe\">\n",
       "  <thead>\n",
       "    <tr style=\"text-align: right;\">\n",
       "      <th></th>\n",
       "      <th>count</th>\n",
       "      <th>mean</th>\n",
       "    </tr>\n",
       "    <tr>\n",
       "      <th>gps_confidence</th>\n",
       "      <th></th>\n",
       "      <th></th>\n",
       "    </tr>\n",
       "  </thead>\n",
       "  <tbody>\n",
       "    <tr>\n",
       "      <th>1.0</th>\n",
       "      <td>3037</td>\n",
       "      <td>0.363846</td>\n",
       "    </tr>\n",
       "    <tr>\n",
       "      <th>0.0</th>\n",
       "      <td>372</td>\n",
       "      <td>0.696237</td>\n",
       "    </tr>\n",
       "  </tbody>\n",
       "</table>\n",
       "</div>"
      ],
      "text/plain": [
       "                count      mean\n",
       "gps_confidence                 \n",
       "1.0              3037  0.363846\n",
       "0.0               372  0.696237"
      ]
     },
     "execution_count": 42,
     "metadata": {},
     "output_type": "execute_result"
    }
   ],
   "source": [
    "df.groupby('gps_confidence')['diff_more_20'].agg(['count','mean'])\\\n",
    "  .sort_values('count', ascending=False).head(10)"
   ]
  },
  {
   "cell_type": "markdown",
   "metadata": {
    "id": "srCv51Doa7mL"
   },
   "source": [
    "\n",
    "### Conclusion\n",
    "\n",
    "---\n",
    "\n",
    "from the aggregations **above** we can suppose, that the upfront_price precision can be improved by gps tracking device.\n",
    "\n",
    "---\n",
    "\n"
   ]
  },
  {
   "cell_type": "markdown",
   "metadata": {
    "id": "sH1cuf2uaRIK"
   },
   "source": [
    "## Top opportunity 3 "
   ]
  },
  {
   "cell_type": "markdown",
   "metadata": {
    "id": "PaVIjTBUaRIL"
   },
   "source": [
    "third most correlated (by0.314773) columns is null **duration**, lets see more detailed "
   ]
  },
  {
   "cell_type": "code",
   "execution_count": 43,
   "metadata": {
    "id": "VwiS2nYGaRIL"
   },
   "outputs": [
    {
     "data": {
      "text/html": [
       "<div>\n",
       "<style scoped>\n",
       "    .dataframe tbody tr th:only-of-type {\n",
       "        vertical-align: middle;\n",
       "    }\n",
       "\n",
       "    .dataframe tbody tr th {\n",
       "        vertical-align: top;\n",
       "    }\n",
       "\n",
       "    .dataframe thead th {\n",
       "        text-align: right;\n",
       "    }\n",
       "</style>\n",
       "<table border=\"1\" class=\"dataframe\">\n",
       "  <thead>\n",
       "    <tr style=\"text-align: right;\">\n",
       "      <th></th>\n",
       "      <th>count</th>\n",
       "      <th>mean</th>\n",
       "    </tr>\n",
       "    <tr>\n",
       "      <th>duration</th>\n",
       "      <th></th>\n",
       "      <th></th>\n",
       "    </tr>\n",
       "  </thead>\n",
       "  <tbody>\n",
       "    <tr>\n",
       "      <th>0.0</th>\n",
       "      <td>20</td>\n",
       "      <td>0.950000</td>\n",
       "    </tr>\n",
       "    <tr>\n",
       "      <th>342.0</th>\n",
       "      <td>9</td>\n",
       "      <td>0.111111</td>\n",
       "    </tr>\n",
       "    <tr>\n",
       "      <th>866.0</th>\n",
       "      <td>9</td>\n",
       "      <td>0.444444</td>\n",
       "    </tr>\n",
       "    <tr>\n",
       "      <th>793.0</th>\n",
       "      <td>8</td>\n",
       "      <td>0.500000</td>\n",
       "    </tr>\n",
       "    <tr>\n",
       "      <th>1111.0</th>\n",
       "      <td>8</td>\n",
       "      <td>1.000000</td>\n",
       "    </tr>\n",
       "  </tbody>\n",
       "</table>\n",
       "</div>"
      ],
      "text/plain": [
       "          count      mean\n",
       "duration                 \n",
       "0.0          20  0.950000\n",
       "342.0         9  0.111111\n",
       "866.0         9  0.444444\n",
       "793.0         8  0.500000\n",
       "1111.0        8  1.000000"
      ]
     },
     "execution_count": 43,
     "metadata": {},
     "output_type": "execute_result"
    }
   ],
   "source": [
    "df.groupby('duration')['diff_more_20'].agg(['count','mean'])\\\n",
    "  .sort_values('count', ascending=False).head(5)"
   ]
  },
  {
   "cell_type": "code",
   "execution_count": 44,
   "metadata": {
    "id": "ncnNFYmzkGRJ"
   },
   "outputs": [
    {
     "data": {
      "text/html": [
       "<div>\n",
       "<style scoped>\n",
       "    .dataframe tbody tr th:only-of-type {\n",
       "        vertical-align: middle;\n",
       "    }\n",
       "\n",
       "    .dataframe tbody tr th {\n",
       "        vertical-align: top;\n",
       "    }\n",
       "\n",
       "    .dataframe thead th {\n",
       "        text-align: right;\n",
       "    }\n",
       "</style>\n",
       "<table border=\"1\" class=\"dataframe\">\n",
       "  <thead>\n",
       "    <tr style=\"text-align: right;\">\n",
       "      <th></th>\n",
       "      <th>count</th>\n",
       "      <th>mean</th>\n",
       "    </tr>\n",
       "    <tr>\n",
       "      <th>duration_freq</th>\n",
       "      <th></th>\n",
       "      <th></th>\n",
       "    </tr>\n",
       "  </thead>\n",
       "  <tbody>\n",
       "    <tr>\n",
       "      <th>(1863.0, 18734.0]</th>\n",
       "      <td>568</td>\n",
       "      <td>0.637324</td>\n",
       "    </tr>\n",
       "    <tr>\n",
       "      <th>(-0.001, 419.0]</th>\n",
       "      <td>569</td>\n",
       "      <td>0.421793</td>\n",
       "    </tr>\n",
       "    <tr>\n",
       "      <th>(895.0, 1213.0]</th>\n",
       "      <td>566</td>\n",
       "      <td>0.374558</td>\n",
       "    </tr>\n",
       "    <tr>\n",
       "      <th>(1213.0, 1863.0]</th>\n",
       "      <td>568</td>\n",
       "      <td>0.373239</td>\n",
       "    </tr>\n",
       "    <tr>\n",
       "      <th>(649.0, 895.0]</th>\n",
       "      <td>569</td>\n",
       "      <td>0.339192</td>\n",
       "    </tr>\n",
       "    <tr>\n",
       "      <th>(419.0, 649.0]</th>\n",
       "      <td>569</td>\n",
       "      <td>0.254833</td>\n",
       "    </tr>\n",
       "  </tbody>\n",
       "</table>\n",
       "</div>"
      ],
      "text/plain": [
       "                   count      mean\n",
       "duration_freq                     \n",
       "(1863.0, 18734.0]    568  0.637324\n",
       "(-0.001, 419.0]      569  0.421793\n",
       "(895.0, 1213.0]      566  0.374558\n",
       "(1213.0, 1863.0]     568  0.373239\n",
       "(649.0, 895.0]       569  0.339192\n",
       "(419.0, 649.0]       569  0.254833"
      ]
     },
     "execution_count": 44,
     "metadata": {},
     "output_type": "execute_result"
    }
   ],
   "source": [
    "# lets segmentate duration values by the frequency of those values for 6 bins.\n",
    "\n",
    "df['duration_freq'] = pd.qcut(df['duration'], 6)\n",
    "df.groupby('duration_freq')['diff_more_20'].agg(['count','mean'])\\\n",
    "                                    .sort_values('mean', ascending=False)"
   ]
  },
  {
   "cell_type": "markdown",
   "metadata": {
    "id": "CExN7XUbC5Me"
   },
   "source": [
    "\n",
    "### Conclusion\n",
    "\n",
    "---\n",
    "\n",
    "here we can conclude that for long distances the upfront pricing doesn't work well. It can be considered in ML modelling.\n",
    "\n",
    "---\n",
    "\n"
   ]
  },
  {
   "cell_type": "markdown",
   "metadata": {
    "id": "4-HLsTYLbyvf"
   },
   "source": [
    "## Top opportunity 4 "
   ]
  },
  {
   "cell_type": "markdown",
   "metadata": {
    "id": "9P_WjXUjbyvg"
   },
   "source": [
    "next  correlated (by 0.296276) columns is null **eu_indicator**, lets see more detailed "
   ]
  },
  {
   "cell_type": "code",
   "execution_count": 45,
   "metadata": {
    "id": "5VKa4hefcA0h"
   },
   "outputs": [
    {
     "data": {
      "text/html": [
       "<div>\n",
       "<style scoped>\n",
       "    .dataframe tbody tr th:only-of-type {\n",
       "        vertical-align: middle;\n",
       "    }\n",
       "\n",
       "    .dataframe tbody tr th {\n",
       "        vertical-align: top;\n",
       "    }\n",
       "\n",
       "    .dataframe thead th {\n",
       "        text-align: right;\n",
       "    }\n",
       "</style>\n",
       "<table border=\"1\" class=\"dataframe\">\n",
       "  <thead>\n",
       "    <tr style=\"text-align: right;\">\n",
       "      <th></th>\n",
       "      <th>count</th>\n",
       "      <th>mean</th>\n",
       "    </tr>\n",
       "    <tr>\n",
       "      <th>eu_indicator</th>\n",
       "      <th></th>\n",
       "      <th></th>\n",
       "    </tr>\n",
       "  </thead>\n",
       "  <tbody>\n",
       "    <tr>\n",
       "      <th>0.0</th>\n",
       "      <td>882</td>\n",
       "      <td>0.560091</td>\n",
       "    </tr>\n",
       "    <tr>\n",
       "      <th>1.0</th>\n",
       "      <td>2527</td>\n",
       "      <td>0.344282</td>\n",
       "    </tr>\n",
       "  </tbody>\n",
       "</table>\n",
       "</div>"
      ],
      "text/plain": [
       "              count      mean\n",
       "eu_indicator                 \n",
       "0.0             882  0.560091\n",
       "1.0            2527  0.344282"
      ]
     },
     "execution_count": 45,
     "metadata": {},
     "output_type": "execute_result"
    }
   ],
   "source": [
    "df.groupby('eu_indicator')['diff_more_20'].agg(['count','mean'])"
   ]
  },
  {
   "cell_type": "markdown",
   "metadata": {
    "id": "N6j0oOeM9j2l"
   },
   "source": [
    "\n",
    "### Conclusion\n",
    "\n",
    "---\n",
    "\n",
    "the upfront_price precision can be improved by improving service in non Europian Union locations. \n",
    "\n",
    "---\n",
    "\n"
   ]
  },
  {
   "cell_type": "markdown",
   "metadata": {
    "id": "UCesazsxcbQp"
   },
   "source": [
    "## Top opportunity 5 "
   ]
  },
  {
   "cell_type": "markdown",
   "metadata": {
    "id": "gjg9wBlvcbQq"
   },
   "source": [
    "next  correlated (by \t0.224632\n",
    ") columns is null **metered_price**, lets see more detailed "
   ]
  },
  {
   "cell_type": "code",
   "execution_count": 46,
   "metadata": {
    "id": "LitX1mNAcbQq"
   },
   "outputs": [
    {
     "data": {
      "text/html": [
       "<div>\n",
       "<style scoped>\n",
       "    .dataframe tbody tr th:only-of-type {\n",
       "        vertical-align: middle;\n",
       "    }\n",
       "\n",
       "    .dataframe tbody tr th {\n",
       "        vertical-align: top;\n",
       "    }\n",
       "\n",
       "    .dataframe thead th {\n",
       "        text-align: right;\n",
       "    }\n",
       "</style>\n",
       "<table border=\"1\" class=\"dataframe\">\n",
       "  <thead>\n",
       "    <tr style=\"text-align: right;\">\n",
       "      <th></th>\n",
       "      <th>count</th>\n",
       "      <th>mean</th>\n",
       "    </tr>\n",
       "    <tr>\n",
       "      <th>metered_price_freq</th>\n",
       "      <th></th>\n",
       "      <th></th>\n",
       "    </tr>\n",
       "  </thead>\n",
       "  <tbody>\n",
       "    <tr>\n",
       "      <th>(1.999, 3.73]</th>\n",
       "      <td>572</td>\n",
       "      <td>0.328671</td>\n",
       "    </tr>\n",
       "    <tr>\n",
       "      <th>(3.73, 5.2]</th>\n",
       "      <td>568</td>\n",
       "      <td>0.286972</td>\n",
       "    </tr>\n",
       "    <tr>\n",
       "      <th>(7.37, 12.39]</th>\n",
       "      <td>568</td>\n",
       "      <td>0.382042</td>\n",
       "    </tr>\n",
       "    <tr>\n",
       "      <th>(12.39, 7940.22]</th>\n",
       "      <td>568</td>\n",
       "      <td>0.433099</td>\n",
       "    </tr>\n",
       "    <tr>\n",
       "      <th>(7940.22, 194483.52]</th>\n",
       "      <td>568</td>\n",
       "      <td>0.607394</td>\n",
       "    </tr>\n",
       "    <tr>\n",
       "      <th>(5.2, 7.37]</th>\n",
       "      <td>565</td>\n",
       "      <td>0.362832</td>\n",
       "    </tr>\n",
       "  </tbody>\n",
       "</table>\n",
       "</div>"
      ],
      "text/plain": [
       "                      count      mean\n",
       "metered_price_freq                   \n",
       "(1.999, 3.73]           572  0.328671\n",
       "(3.73, 5.2]             568  0.286972\n",
       "(7.37, 12.39]           568  0.382042\n",
       "(12.39, 7940.22]        568  0.433099\n",
       "(7940.22, 194483.52]    568  0.607394\n",
       "(5.2, 7.37]             565  0.362832"
      ]
     },
     "execution_count": 46,
     "metadata": {},
     "output_type": "execute_result"
    }
   ],
   "source": [
    "# lets segmentate duration values by the frequency of those values for 6 bins.\n",
    "\n",
    "df['metered_price_freq'] = pd.qcut(df['metered_price'], 6)\n",
    "df.groupby('metered_price_freq')['diff_more_20'].agg(['count','mean'])\\\n",
    "                                    .sort_values('count', ascending=False)"
   ]
  },
  {
   "cell_type": "markdown",
   "metadata": {
    "id": "1nYX-MgccbQr"
   },
   "source": [
    "\n",
    "### Conclusion\n",
    "\n",
    "---\n",
    "\n",
    "the metered_price in range (7940.22 - 194483.52) affects on upfront pricing significantly, the metered_price's mathematics should be reconsidered in such ranges. Assume, that it consists of two main variable distance and duration, which affects mostly.\n",
    "\n",
    "---\n",
    "\n"
   ]
  },
  {
   "cell_type": "markdown",
   "metadata": {
    "id": "3Vy-zgtad7DN"
   },
   "source": [
    "## Top opportunity 6 "
   ]
  },
  {
   "cell_type": "markdown",
   "metadata": {
    "id": "GQZm40dCd7DO"
   },
   "source": [
    "next less correlated (by \t0.178249\n",
    ") columns is null **driver_app_version**, lets see more detailed "
   ]
  },
  {
   "cell_type": "code",
   "execution_count": 47,
   "metadata": {
    "id": "fkGBVt9kd7DO"
   },
   "outputs": [
    {
     "data": {
      "text/html": [
       "<div>\n",
       "<style scoped>\n",
       "    .dataframe tbody tr th:only-of-type {\n",
       "        vertical-align: middle;\n",
       "    }\n",
       "\n",
       "    .dataframe tbody tr th {\n",
       "        vertical-align: top;\n",
       "    }\n",
       "\n",
       "    .dataframe thead th {\n",
       "        text-align: right;\n",
       "    }\n",
       "</style>\n",
       "<table border=\"1\" class=\"dataframe\">\n",
       "  <thead>\n",
       "    <tr style=\"text-align: right;\">\n",
       "      <th></th>\n",
       "      <th>count</th>\n",
       "      <th>mean</th>\n",
       "    </tr>\n",
       "    <tr>\n",
       "      <th>driver_app_version</th>\n",
       "      <th></th>\n",
       "      <th></th>\n",
       "    </tr>\n",
       "  </thead>\n",
       "  <tbody>\n",
       "    <tr>\n",
       "      <th>DA.4.39</th>\n",
       "      <td>1037</td>\n",
       "      <td>0.368370</td>\n",
       "    </tr>\n",
       "    <tr>\n",
       "      <th>DA.4.37</th>\n",
       "      <td>787</td>\n",
       "      <td>0.419314</td>\n",
       "    </tr>\n",
       "    <tr>\n",
       "      <th>DA.4.42</th>\n",
       "      <td>458</td>\n",
       "      <td>0.373362</td>\n",
       "    </tr>\n",
       "    <tr>\n",
       "      <th>DA.4.31</th>\n",
       "      <td>227</td>\n",
       "      <td>0.396476</td>\n",
       "    </tr>\n",
       "    <tr>\n",
       "      <th>DA.4.34</th>\n",
       "      <td>208</td>\n",
       "      <td>0.447115</td>\n",
       "    </tr>\n",
       "    <tr>\n",
       "      <th>DA.4.41</th>\n",
       "      <td>123</td>\n",
       "      <td>0.284553</td>\n",
       "    </tr>\n",
       "    <tr>\n",
       "      <th>DI.3.33</th>\n",
       "      <td>96</td>\n",
       "      <td>0.333333</td>\n",
       "    </tr>\n",
       "  </tbody>\n",
       "</table>\n",
       "</div>"
      ],
      "text/plain": [
       "                    count      mean\n",
       "driver_app_version                 \n",
       "DA.4.39              1037  0.368370\n",
       "DA.4.37               787  0.419314\n",
       "DA.4.42               458  0.373362\n",
       "DA.4.31               227  0.396476\n",
       "DA.4.34               208  0.447115\n",
       "DA.4.41               123  0.284553\n",
       "DI.3.33                96  0.333333"
      ]
     },
     "execution_count": 47,
     "metadata": {},
     "output_type": "execute_result"
    }
   ],
   "source": [
    "df.groupby('driver_app_version')['diff_more_20'].agg(['count','mean'])\\\n",
    "  .sort_values('count',ascending=False).head(7)"
   ]
  },
  {
   "cell_type": "markdown",
   "metadata": {
    "id": "6dsqQ07dd7DO"
   },
   "source": [
    "\n",
    "### Conclusion\n",
    "\n",
    "---\n",
    "\n",
    "the driver_app_version also affects on upfront pricing. The suggestion is to make a alertion in the system for a driver to update app version.\n",
    "\n",
    "---\n",
    "\n"
   ]
  },
  {
   "cell_type": "code",
   "execution_count": null,
   "metadata": {},
   "outputs": [],
   "source": []
  }
 ],
 "metadata": {
  "colab": {
   "private_outputs": true,
   "provenance": [],
   "toc_visible": true
  },
  "kernelspec": {
   "display_name": "Python 3 (ipykernel)",
   "language": "python",
   "name": "python3"
  },
  "language_info": {
   "codemirror_mode": {
    "name": "ipython",
    "version": 3
   },
   "file_extension": ".py",
   "mimetype": "text/x-python",
   "name": "python",
   "nbconvert_exporter": "python",
   "pygments_lexer": "ipython3",
   "version": "3.8.10"
  }
 },
 "nbformat": 4,
 "nbformat_minor": 1
}
