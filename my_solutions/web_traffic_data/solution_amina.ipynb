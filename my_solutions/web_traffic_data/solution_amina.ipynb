{
 "cells": [
  {
   "cell_type": "code",
   "execution_count": 1,
   "id": "c3fbf5e1",
   "metadata": {},
   "outputs": [],
   "source": [
    "import pandas as pd\n",
    "import numpy as np"
   ]
  },
  {
   "cell_type": "markdown",
   "id": "aa565914",
   "metadata": {},
   "source": [
    "### Desc\n",
    "The traffic.csv file and the traffic.db SQLite database contain the same web traffic data (\"events\") from a few different pages (\"links\") over a period of 7 days including various categorical dimensions about the geographic origin of that traffic as well as a page's content.\n",
    "\n",
    "Our goal is to understand this traffic better, in particular the volume and distribution of events, and to develop ideas <b>how to increase the links' clickrates</b>. With that in mind, please analyze the data using plain SQL statements as well as the Python Pandas library, providing answers to the following questions:\n",
    "\n",
    "[SQL + Pandas] <b>How many total pageview events did the links in the provided dataset receive in the full period, how many per day? </b><br>\n",
    "[SQL + Pandas] <b>What about the other recorded events?</b><br>\n",
    "[SQL + Pandas] <b>Which countries did the pageviews come from?</b><br>\n",
    "[SQL + Pandas] <b>What was the overall click rate (clicks/pageviews)?</b><br>\n",
    "[Pandas] <b>How does the clickrate distribute across different links?</b><br>"
   ]
  },
  {
   "cell_type": "code",
   "execution_count": 11,
   "id": "5033f985",
   "metadata": {},
   "outputs": [
    {
     "name": "stdout",
     "output_type": "stream",
     "text": [
      "README.md             pyproject.toml        traffic.csv\r\n",
      "poetry.lock           solution_amina.ipynb  traffic.db\r\n"
     ]
    }
   ],
   "source": [
    "ls"
   ]
  },
  {
   "cell_type": "code",
   "execution_count": 12,
   "id": "fc5ac30b",
   "metadata": {},
   "outputs": [
    {
     "data": {
      "text/plain": [
       "'/Users/amina/Documents/data-analytics-challenge-2023-main'"
      ]
     },
     "execution_count": 12,
     "metadata": {},
     "output_type": "execute_result"
    }
   ],
   "source": [
    "pwd"
   ]
  },
  {
   "cell_type": "code",
   "execution_count": 52,
   "id": "f0c55271",
   "metadata": {},
   "outputs": [
    {
     "data": {
      "text/plain": [
       "(226278, 9)"
      ]
     },
     "execution_count": 52,
     "metadata": {},
     "output_type": "execute_result"
    }
   ],
   "source": [
    "import sqlite3\n",
    "db = 'traffic.db'\n",
    "con = sqlite3.connect(db)\n",
    "\n",
    "def select(sql):\n",
    "    return pd.read_sql(sql, con)\n",
    "\n",
    "sql = ''' select * from events t '''\n",
    "select(sql).shape"
   ]
  },
  {
   "cell_type": "code",
   "execution_count": 409,
   "id": "e80d6d0f",
   "metadata": {},
   "outputs": [
    {
     "data": {
      "text/html": [
       "<div>\n",
       "<style scoped>\n",
       "    .dataframe tbody tr th:only-of-type {\n",
       "        vertical-align: middle;\n",
       "    }\n",
       "\n",
       "    .dataframe tbody tr th {\n",
       "        vertical-align: top;\n",
       "    }\n",
       "\n",
       "    .dataframe thead th {\n",
       "        text-align: right;\n",
       "    }\n",
       "</style>\n",
       "<table border=\"1\" class=\"dataframe\">\n",
       "  <thead>\n",
       "    <tr style=\"text-align: right;\">\n",
       "      <th></th>\n",
       "      <th>event</th>\n",
       "      <th>date</th>\n",
       "      <th>country</th>\n",
       "      <th>city</th>\n",
       "      <th>artist</th>\n",
       "      <th>album</th>\n",
       "      <th>track</th>\n",
       "      <th>isrc</th>\n",
       "      <th>linkid</th>\n",
       "    </tr>\n",
       "  </thead>\n",
       "  <tbody>\n",
       "    <tr>\n",
       "      <th>0</th>\n",
       "      <td>click</td>\n",
       "      <td>2021-08-21</td>\n",
       "      <td>Saudi Arabia</td>\n",
       "      <td>Jeddah</td>\n",
       "      <td>Tesher</td>\n",
       "      <td>Jalebi Baby</td>\n",
       "      <td>Jalebi Baby</td>\n",
       "      <td>QZNWQ2070741</td>\n",
       "      <td>2d896d31-97b6-4869-967b-1c5fb9cd4bb8</td>\n",
       "    </tr>\n",
       "    <tr>\n",
       "      <th>1</th>\n",
       "      <td>click</td>\n",
       "      <td>2021-08-21</td>\n",
       "      <td>Saudi Arabia</td>\n",
       "      <td>Jeddah</td>\n",
       "      <td>Tesher</td>\n",
       "      <td>Jalebi Baby</td>\n",
       "      <td>Jalebi Baby</td>\n",
       "      <td>QZNWQ2070741</td>\n",
       "      <td>2d896d31-97b6-4869-967b-1c5fb9cd4bb8</td>\n",
       "    </tr>\n",
       "    <tr>\n",
       "      <th>2</th>\n",
       "      <td>click</td>\n",
       "      <td>2021-08-21</td>\n",
       "      <td>India</td>\n",
       "      <td>Ludhiana</td>\n",
       "      <td>Reyanna Maria</td>\n",
       "      <td>So Pretty</td>\n",
       "      <td>So Pretty</td>\n",
       "      <td>USUM72100871</td>\n",
       "      <td>23199824-9cf5-4b98-942a-34965c3b0cc2</td>\n",
       "    </tr>\n",
       "  </tbody>\n",
       "</table>\n",
       "</div>"
      ],
      "text/plain": [
       "   event        date       country      city         artist        album  \\\n",
       "0  click  2021-08-21  Saudi Arabia    Jeddah         Tesher  Jalebi Baby   \n",
       "1  click  2021-08-21  Saudi Arabia    Jeddah         Tesher  Jalebi Baby   \n",
       "2  click  2021-08-21         India  Ludhiana  Reyanna Maria    So Pretty   \n",
       "\n",
       "         track          isrc                                linkid  \n",
       "0  Jalebi Baby  QZNWQ2070741  2d896d31-97b6-4869-967b-1c5fb9cd4bb8  \n",
       "1  Jalebi Baby  QZNWQ2070741  2d896d31-97b6-4869-967b-1c5fb9cd4bb8  \n",
       "2    So Pretty  USUM72100871  23199824-9cf5-4b98-942a-34965c3b0cc2  "
      ]
     },
     "execution_count": 409,
     "metadata": {},
     "output_type": "execute_result"
    }
   ],
   "source": [
    "traffic = pd.read_csv('traffic.csv')\n",
    "traffic.head(3)"
   ]
  },
  {
   "cell_type": "code",
   "execution_count": 97,
   "id": "8e9bd315",
   "metadata": {},
   "outputs": [
    {
     "data": {
      "text/plain": [
       "array(['click', 'preview', 'pageview'], dtype=object)"
      ]
     },
     "execution_count": 97,
     "metadata": {},
     "output_type": "execute_result"
    }
   ],
   "source": [
    "traffic.event.unique()"
   ]
  },
  {
   "cell_type": "markdown",
   "id": "e6f47ade",
   "metadata": {},
   "source": [
    "#### How many total pageview events did the links in the provided dataset receive in the full period, how many per day?"
   ]
  },
  {
   "cell_type": "code",
   "execution_count": 92,
   "id": "dfb37ba4",
   "metadata": {},
   "outputs": [
    {
     "name": "stdout",
     "output_type": "stream",
     "text": [
      "Total pageview events in the full period:  142015\n",
      "\n",
      "Total pageview events per day:\n"
     ]
    },
    {
     "data": {
      "text/html": [
       "<div>\n",
       "<style scoped>\n",
       "    .dataframe tbody tr th:only-of-type {\n",
       "        vertical-align: middle;\n",
       "    }\n",
       "\n",
       "    .dataframe tbody tr th {\n",
       "        vertical-align: top;\n",
       "    }\n",
       "\n",
       "    .dataframe thead th {\n",
       "        text-align: right;\n",
       "    }\n",
       "</style>\n",
       "<table border=\"1\" class=\"dataframe\">\n",
       "  <thead>\n",
       "    <tr style=\"text-align: right;\">\n",
       "      <th></th>\n",
       "      <th>date</th>\n",
       "      <th>event_cnt</th>\n",
       "    </tr>\n",
       "  </thead>\n",
       "  <tbody>\n",
       "    <tr>\n",
       "      <th>0</th>\n",
       "      <td>2021-08-19</td>\n",
       "      <td>22366</td>\n",
       "    </tr>\n",
       "    <tr>\n",
       "      <th>1</th>\n",
       "      <td>2021-08-20</td>\n",
       "      <td>21382</td>\n",
       "    </tr>\n",
       "    <tr>\n",
       "      <th>2</th>\n",
       "      <td>2021-08-21</td>\n",
       "      <td>21349</td>\n",
       "    </tr>\n",
       "    <tr>\n",
       "      <th>3</th>\n",
       "      <td>2021-08-22</td>\n",
       "      <td>20430</td>\n",
       "    </tr>\n",
       "    <tr>\n",
       "      <th>4</th>\n",
       "      <td>2021-08-23</td>\n",
       "      <td>18646</td>\n",
       "    </tr>\n",
       "    <tr>\n",
       "      <th>5</th>\n",
       "      <td>2021-08-24</td>\n",
       "      <td>18693</td>\n",
       "    </tr>\n",
       "    <tr>\n",
       "      <th>6</th>\n",
       "      <td>2021-08-25</td>\n",
       "      <td>19149</td>\n",
       "    </tr>\n",
       "  </tbody>\n",
       "</table>\n",
       "</div>"
      ],
      "text/plain": [
       "         date  event_cnt\n",
       "0  2021-08-19      22366\n",
       "1  2021-08-20      21382\n",
       "2  2021-08-21      21349\n",
       "3  2021-08-22      20430\n",
       "4  2021-08-23      18646\n",
       "5  2021-08-24      18693\n",
       "6  2021-08-25      19149"
      ]
     },
     "execution_count": 92,
     "metadata": {},
     "output_type": "execute_result"
    }
   ],
   "source": [
    "# SQL \n",
    "\n",
    "sql1 = ''' select count(*) as total\n",
    "           from events e \n",
    "           where event='pageview'      '''\n",
    "\n",
    "sql2 = ''' select date, count(*) as event_cnt \n",
    "          from events e \n",
    "          where event='pageview'\n",
    "          group by 1    '''\n",
    "\n",
    "total_pageview = select(sql1).total[0]\n",
    "print('Total pageview events in the full period: ', total_pageview)\n",
    "\n",
    "print('\\nTotal pageview events per day:')\n",
    "select(sql2)"
   ]
  },
  {
   "cell_type": "code",
   "execution_count": 96,
   "id": "bbb808c9",
   "metadata": {},
   "outputs": [
    {
     "name": "stdout",
     "output_type": "stream",
     "text": [
      "Total pageview events in the full period:  142015\n",
      "\n",
      "Total pageview events per day:\n"
     ]
    },
    {
     "data": {
      "text/html": [
       "<div>\n",
       "<style scoped>\n",
       "    .dataframe tbody tr th:only-of-type {\n",
       "        vertical-align: middle;\n",
       "    }\n",
       "\n",
       "    .dataframe tbody tr th {\n",
       "        vertical-align: top;\n",
       "    }\n",
       "\n",
       "    .dataframe thead th {\n",
       "        text-align: right;\n",
       "    }\n",
       "</style>\n",
       "<table border=\"1\" class=\"dataframe\">\n",
       "  <thead>\n",
       "    <tr style=\"text-align: right;\">\n",
       "      <th></th>\n",
       "      <th>date</th>\n",
       "      <th>event_cnt</th>\n",
       "    </tr>\n",
       "  </thead>\n",
       "  <tbody>\n",
       "    <tr>\n",
       "      <th>0</th>\n",
       "      <td>2021-08-19</td>\n",
       "      <td>22366</td>\n",
       "    </tr>\n",
       "    <tr>\n",
       "      <th>1</th>\n",
       "      <td>2021-08-20</td>\n",
       "      <td>21382</td>\n",
       "    </tr>\n",
       "    <tr>\n",
       "      <th>2</th>\n",
       "      <td>2021-08-21</td>\n",
       "      <td>21349</td>\n",
       "    </tr>\n",
       "    <tr>\n",
       "      <th>3</th>\n",
       "      <td>2021-08-22</td>\n",
       "      <td>20430</td>\n",
       "    </tr>\n",
       "    <tr>\n",
       "      <th>4</th>\n",
       "      <td>2021-08-23</td>\n",
       "      <td>18646</td>\n",
       "    </tr>\n",
       "    <tr>\n",
       "      <th>5</th>\n",
       "      <td>2021-08-24</td>\n",
       "      <td>18693</td>\n",
       "    </tr>\n",
       "    <tr>\n",
       "      <th>6</th>\n",
       "      <td>2021-08-25</td>\n",
       "      <td>19149</td>\n",
       "    </tr>\n",
       "  </tbody>\n",
       "</table>\n",
       "</div>"
      ],
      "text/plain": [
       "         date  event_cnt\n",
       "0  2021-08-19      22366\n",
       "1  2021-08-20      21382\n",
       "2  2021-08-21      21349\n",
       "3  2021-08-22      20430\n",
       "4  2021-08-23      18646\n",
       "5  2021-08-24      18693\n",
       "6  2021-08-25      19149"
      ]
     },
     "execution_count": 96,
     "metadata": {},
     "output_type": "execute_result"
    }
   ],
   "source": [
    "# PANDAS\n",
    "\n",
    "d = traffic[traffic.event=='pageview'].event.count()\n",
    "print('Total pageview events in the full period: ', d)\n",
    "\n",
    "print('\\nTotal pageview events per day:')\n",
    "traffic[traffic.event=='pageview'].groupby('date', as_index=False)\\\n",
    "                                  .event.count()\\\n",
    "                        .rename(columns = {'event':'event_cnt'})"
   ]
  },
  {
   "cell_type": "markdown",
   "id": "f633fad0",
   "metadata": {},
   "source": [
    "#### What about the other recorded events?"
   ]
  },
  {
   "cell_type": "code",
   "execution_count": 108,
   "id": "bc16864c",
   "metadata": {},
   "outputs": [
    {
     "name": "stdout",
     "output_type": "stream",
     "text": [
      "Other totals events, such as 'click' and 'preview', in the full period: \n"
     ]
    },
    {
     "data": {
      "text/html": [
       "<div>\n",
       "<style scoped>\n",
       "    .dataframe tbody tr th:only-of-type {\n",
       "        vertical-align: middle;\n",
       "    }\n",
       "\n",
       "    .dataframe tbody tr th {\n",
       "        vertical-align: top;\n",
       "    }\n",
       "\n",
       "    .dataframe thead th {\n",
       "        text-align: right;\n",
       "    }\n",
       "</style>\n",
       "<table border=\"1\" class=\"dataframe\">\n",
       "  <thead>\n",
       "    <tr style=\"text-align: right;\">\n",
       "      <th></th>\n",
       "      <th>event</th>\n",
       "      <th>total_events</th>\n",
       "    </tr>\n",
       "  </thead>\n",
       "  <tbody>\n",
       "    <tr>\n",
       "      <th>0</th>\n",
       "      <td>click</td>\n",
       "      <td>55732</td>\n",
       "    </tr>\n",
       "    <tr>\n",
       "      <th>1</th>\n",
       "      <td>preview</td>\n",
       "      <td>28531</td>\n",
       "    </tr>\n",
       "  </tbody>\n",
       "</table>\n",
       "</div>"
      ],
      "text/plain": [
       "     event  total_events\n",
       "0    click         55732\n",
       "1  preview         28531"
      ]
     },
     "execution_count": 108,
     "metadata": {},
     "output_type": "execute_result"
    }
   ],
   "source": [
    "# SQL \n",
    "\n",
    "sql1 = ''' select event, count(*) as total_events\n",
    "           from events e \n",
    "           where event<>'pageview'\n",
    "           group by event   '''\n",
    "\n",
    "sql2 = ''' \n",
    "    select date\n",
    "         , sum(case when event='click' then 1 else 0 end) as click_events \n",
    "         , sum(case when event='preview' then 1 else 0 end) as preview_events \n",
    "    from events e \n",
    "    where event<>'pageview'\n",
    "    group by date    '''\n",
    "\n",
    "tmp1 = select(sql1)\n",
    "print('''Other totals events, such as 'click' and 'preview', in the full period: ''')\n",
    "tmp1\n"
   ]
  },
  {
   "cell_type": "code",
   "execution_count": 110,
   "id": "525b82a7",
   "metadata": {},
   "outputs": [
    {
     "name": "stdout",
     "output_type": "stream",
     "text": [
      "Other totals events, such as 'click' and 'preview', per day:\n"
     ]
    },
    {
     "data": {
      "text/html": [
       "<div>\n",
       "<style scoped>\n",
       "    .dataframe tbody tr th:only-of-type {\n",
       "        vertical-align: middle;\n",
       "    }\n",
       "\n",
       "    .dataframe tbody tr th {\n",
       "        vertical-align: top;\n",
       "    }\n",
       "\n",
       "    .dataframe thead th {\n",
       "        text-align: right;\n",
       "    }\n",
       "</style>\n",
       "<table border=\"1\" class=\"dataframe\">\n",
       "  <thead>\n",
       "    <tr style=\"text-align: right;\">\n",
       "      <th></th>\n",
       "      <th>date</th>\n",
       "      <th>click_events</th>\n",
       "      <th>preview_events</th>\n",
       "    </tr>\n",
       "  </thead>\n",
       "  <tbody>\n",
       "    <tr>\n",
       "      <th>0</th>\n",
       "      <td>2021-08-19</td>\n",
       "      <td>9207</td>\n",
       "      <td>3788</td>\n",
       "    </tr>\n",
       "    <tr>\n",
       "      <th>1</th>\n",
       "      <td>2021-08-20</td>\n",
       "      <td>8508</td>\n",
       "      <td>4222</td>\n",
       "    </tr>\n",
       "    <tr>\n",
       "      <th>2</th>\n",
       "      <td>2021-08-21</td>\n",
       "      <td>8071</td>\n",
       "      <td>4663</td>\n",
       "    </tr>\n",
       "    <tr>\n",
       "      <th>3</th>\n",
       "      <td>2021-08-22</td>\n",
       "      <td>7854</td>\n",
       "      <td>4349</td>\n",
       "    </tr>\n",
       "    <tr>\n",
       "      <th>4</th>\n",
       "      <td>2021-08-23</td>\n",
       "      <td>7315</td>\n",
       "      <td>3847</td>\n",
       "    </tr>\n",
       "    <tr>\n",
       "      <th>5</th>\n",
       "      <td>2021-08-24</td>\n",
       "      <td>7301</td>\n",
       "      <td>3840</td>\n",
       "    </tr>\n",
       "    <tr>\n",
       "      <th>6</th>\n",
       "      <td>2021-08-25</td>\n",
       "      <td>7476</td>\n",
       "      <td>3822</td>\n",
       "    </tr>\n",
       "  </tbody>\n",
       "</table>\n",
       "</div>"
      ],
      "text/plain": [
       "         date  click_events  preview_events\n",
       "0  2021-08-19          9207            3788\n",
       "1  2021-08-20          8508            4222\n",
       "2  2021-08-21          8071            4663\n",
       "3  2021-08-22          7854            4349\n",
       "4  2021-08-23          7315            3847\n",
       "5  2021-08-24          7301            3840\n",
       "6  2021-08-25          7476            3822"
      ]
     },
     "execution_count": 110,
     "metadata": {},
     "output_type": "execute_result"
    }
   ],
   "source": [
    "print('''Other totals events, such as 'click' and 'preview', per day:''')\n",
    "select(sql2)"
   ]
  },
  {
   "cell_type": "code",
   "execution_count": 134,
   "id": "a504be39",
   "metadata": {},
   "outputs": [
    {
     "name": "stdout",
     "output_type": "stream",
     "text": [
      "Other total events (click and preview), in the full period:\n"
     ]
    },
    {
     "data": {
      "text/html": [
       "<div>\n",
       "<style scoped>\n",
       "    .dataframe tbody tr th:only-of-type {\n",
       "        vertical-align: middle;\n",
       "    }\n",
       "\n",
       "    .dataframe tbody tr th {\n",
       "        vertical-align: top;\n",
       "    }\n",
       "\n",
       "    .dataframe thead th {\n",
       "        text-align: right;\n",
       "    }\n",
       "</style>\n",
       "<table border=\"1\" class=\"dataframe\">\n",
       "  <thead>\n",
       "    <tr style=\"text-align: right;\">\n",
       "      <th></th>\n",
       "      <th>event</th>\n",
       "      <th>event_cnt</th>\n",
       "    </tr>\n",
       "  </thead>\n",
       "  <tbody>\n",
       "    <tr>\n",
       "      <th>0</th>\n",
       "      <td>click</td>\n",
       "      <td>55732</td>\n",
       "    </tr>\n",
       "    <tr>\n",
       "      <th>1</th>\n",
       "      <td>preview</td>\n",
       "      <td>28531</td>\n",
       "    </tr>\n",
       "  </tbody>\n",
       "</table>\n",
       "</div>"
      ],
      "text/plain": [
       "     event  event_cnt\n",
       "0    click      55732\n",
       "1  preview      28531"
      ]
     },
     "execution_count": 134,
     "metadata": {},
     "output_type": "execute_result"
    }
   ],
   "source": [
    "# PANDAS\n",
    "print('Other total events (click and preview), in the full period:')\n",
    "tmp1 = traffic[traffic.event!='pageview'].groupby(['event'], as_index=False).linkid.count()\\\n",
    "                                         .rename(columns = {'linkid':'event_cnt'})\n",
    "tmp1"
   ]
  },
  {
   "cell_type": "code",
   "execution_count": 136,
   "id": "2fdc03a0",
   "metadata": {},
   "outputs": [
    {
     "name": "stdout",
     "output_type": "stream",
     "text": [
      "Other total events (click and preview) per day:\n"
     ]
    },
    {
     "data": {
      "text/html": [
       "<div>\n",
       "<style scoped>\n",
       "    .dataframe tbody tr th:only-of-type {\n",
       "        vertical-align: middle;\n",
       "    }\n",
       "\n",
       "    .dataframe tbody tr th {\n",
       "        vertical-align: top;\n",
       "    }\n",
       "\n",
       "    .dataframe thead th {\n",
       "        text-align: right;\n",
       "    }\n",
       "</style>\n",
       "<table border=\"1\" class=\"dataframe\">\n",
       "  <thead>\n",
       "    <tr style=\"text-align: right;\">\n",
       "      <th></th>\n",
       "      <th>date</th>\n",
       "      <th>event</th>\n",
       "      <th>event_cnt</th>\n",
       "    </tr>\n",
       "  </thead>\n",
       "  <tbody>\n",
       "    <tr>\n",
       "      <th>0</th>\n",
       "      <td>2021-08-19</td>\n",
       "      <td>click</td>\n",
       "      <td>9207</td>\n",
       "    </tr>\n",
       "    <tr>\n",
       "      <th>1</th>\n",
       "      <td>2021-08-19</td>\n",
       "      <td>preview</td>\n",
       "      <td>3788</td>\n",
       "    </tr>\n",
       "    <tr>\n",
       "      <th>2</th>\n",
       "      <td>2021-08-20</td>\n",
       "      <td>click</td>\n",
       "      <td>8508</td>\n",
       "    </tr>\n",
       "    <tr>\n",
       "      <th>3</th>\n",
       "      <td>2021-08-20</td>\n",
       "      <td>preview</td>\n",
       "      <td>4222</td>\n",
       "    </tr>\n",
       "    <tr>\n",
       "      <th>4</th>\n",
       "      <td>2021-08-21</td>\n",
       "      <td>click</td>\n",
       "      <td>8071</td>\n",
       "    </tr>\n",
       "    <tr>\n",
       "      <th>5</th>\n",
       "      <td>2021-08-21</td>\n",
       "      <td>preview</td>\n",
       "      <td>4663</td>\n",
       "    </tr>\n",
       "    <tr>\n",
       "      <th>6</th>\n",
       "      <td>2021-08-22</td>\n",
       "      <td>click</td>\n",
       "      <td>7854</td>\n",
       "    </tr>\n",
       "    <tr>\n",
       "      <th>7</th>\n",
       "      <td>2021-08-22</td>\n",
       "      <td>preview</td>\n",
       "      <td>4349</td>\n",
       "    </tr>\n",
       "    <tr>\n",
       "      <th>8</th>\n",
       "      <td>2021-08-23</td>\n",
       "      <td>click</td>\n",
       "      <td>7315</td>\n",
       "    </tr>\n",
       "    <tr>\n",
       "      <th>9</th>\n",
       "      <td>2021-08-23</td>\n",
       "      <td>preview</td>\n",
       "      <td>3847</td>\n",
       "    </tr>\n",
       "    <tr>\n",
       "      <th>10</th>\n",
       "      <td>2021-08-24</td>\n",
       "      <td>click</td>\n",
       "      <td>7301</td>\n",
       "    </tr>\n",
       "    <tr>\n",
       "      <th>11</th>\n",
       "      <td>2021-08-24</td>\n",
       "      <td>preview</td>\n",
       "      <td>3840</td>\n",
       "    </tr>\n",
       "    <tr>\n",
       "      <th>12</th>\n",
       "      <td>2021-08-25</td>\n",
       "      <td>click</td>\n",
       "      <td>7476</td>\n",
       "    </tr>\n",
       "    <tr>\n",
       "      <th>13</th>\n",
       "      <td>2021-08-25</td>\n",
       "      <td>preview</td>\n",
       "      <td>3822</td>\n",
       "    </tr>\n",
       "  </tbody>\n",
       "</table>\n",
       "</div>"
      ],
      "text/plain": [
       "          date    event  event_cnt\n",
       "0   2021-08-19    click       9207\n",
       "1   2021-08-19  preview       3788\n",
       "2   2021-08-20    click       8508\n",
       "3   2021-08-20  preview       4222\n",
       "4   2021-08-21    click       8071\n",
       "5   2021-08-21  preview       4663\n",
       "6   2021-08-22    click       7854\n",
       "7   2021-08-22  preview       4349\n",
       "8   2021-08-23    click       7315\n",
       "9   2021-08-23  preview       3847\n",
       "10  2021-08-24    click       7301\n",
       "11  2021-08-24  preview       3840\n",
       "12  2021-08-25    click       7476\n",
       "13  2021-08-25  preview       3822"
      ]
     },
     "execution_count": 136,
     "metadata": {},
     "output_type": "execute_result"
    }
   ],
   "source": [
    "print('Other total events (click and preview) per day:')\n",
    "tmp1 = traffic[traffic.event!='pageview'].groupby(['date', 'event'], as_index=False).linkid.count()\\\n",
    "                                         .rename(columns = {'linkid':'event_cnt'})\n",
    "tmp1"
   ]
  },
  {
   "cell_type": "markdown",
   "id": "735e1050",
   "metadata": {},
   "source": [
    "#### Which countries did the pageviews come from?"
   ]
  },
  {
   "cell_type": "code",
   "execution_count": 151,
   "id": "f81835cc",
   "metadata": {},
   "outputs": [
    {
     "name": "stdout",
     "output_type": "stream",
     "text": [
      "Total countries (pageviews come from) =  211\n",
      "\n",
      "Countries pageviews come from: \n"
     ]
    },
    {
     "data": {
      "text/html": [
       "<div>\n",
       "<style scoped>\n",
       "    .dataframe tbody tr th:only-of-type {\n",
       "        vertical-align: middle;\n",
       "    }\n",
       "\n",
       "    .dataframe tbody tr th {\n",
       "        vertical-align: top;\n",
       "    }\n",
       "\n",
       "    .dataframe thead th {\n",
       "        text-align: right;\n",
       "    }\n",
       "</style>\n",
       "<table border=\"1\" class=\"dataframe\">\n",
       "  <thead>\n",
       "    <tr style=\"text-align: right;\">\n",
       "      <th></th>\n",
       "      <th>country</th>\n",
       "      <th>event_cnt</th>\n",
       "    </tr>\n",
       "  </thead>\n",
       "  <tbody>\n",
       "    <tr>\n",
       "      <th>0</th>\n",
       "      <td>Saudi Arabia</td>\n",
       "      <td>28873</td>\n",
       "    </tr>\n",
       "    <tr>\n",
       "      <th>1</th>\n",
       "      <td>India</td>\n",
       "      <td>27286</td>\n",
       "    </tr>\n",
       "    <tr>\n",
       "      <th>2</th>\n",
       "      <td>United States</td>\n",
       "      <td>20839</td>\n",
       "    </tr>\n",
       "    <tr>\n",
       "      <th>3</th>\n",
       "      <td>France</td>\n",
       "      <td>9674</td>\n",
       "    </tr>\n",
       "    <tr>\n",
       "      <th>4</th>\n",
       "      <td>Iraq</td>\n",
       "      <td>4897</td>\n",
       "    </tr>\n",
       "    <tr>\n",
       "      <th>5</th>\n",
       "      <td>United Kingdom</td>\n",
       "      <td>3845</td>\n",
       "    </tr>\n",
       "    <tr>\n",
       "      <th>6</th>\n",
       "      <td>Pakistan</td>\n",
       "      <td>3212</td>\n",
       "    </tr>\n",
       "    <tr>\n",
       "      <th>7</th>\n",
       "      <td>Germany</td>\n",
       "      <td>3141</td>\n",
       "    </tr>\n",
       "    <tr>\n",
       "      <th>8</th>\n",
       "      <td>Turkey</td>\n",
       "      <td>2462</td>\n",
       "    </tr>\n",
       "    <tr>\n",
       "      <th>9</th>\n",
       "      <td>United Arab Emirates</td>\n",
       "      <td>2335</td>\n",
       "    </tr>\n",
       "  </tbody>\n",
       "</table>\n",
       "</div>"
      ],
      "text/plain": [
       "                country  event_cnt\n",
       "0          Saudi Arabia      28873\n",
       "1                 India      27286\n",
       "2         United States      20839\n",
       "3                France       9674\n",
       "4                  Iraq       4897\n",
       "5        United Kingdom       3845\n",
       "6              Pakistan       3212\n",
       "7               Germany       3141\n",
       "8                Turkey       2462\n",
       "9  United Arab Emirates       2335"
      ]
     },
     "execution_count": 151,
     "metadata": {},
     "output_type": "execute_result"
    }
   ],
   "source": [
    "# SQL \n",
    "\n",
    "sql = '''select country, count(*) as event_cnt \n",
    "          from events e \n",
    "          where event='pageview'\n",
    "          group by 1    \n",
    "          order by 2 desc'''\n",
    "\n",
    "print('Total countries (pageviews come from) = ', select(sql).country.count())\n",
    "print('\\nCountries pageviews come from: ')\n",
    "\n",
    "select(sql).head(10)"
   ]
  },
  {
   "cell_type": "code",
   "execution_count": 155,
   "id": "ab29867a",
   "metadata": {},
   "outputs": [
    {
     "name": "stdout",
     "output_type": "stream",
     "text": [
      "Countries pageviews come from:\n"
     ]
    },
    {
     "data": {
      "text/html": [
       "<div>\n",
       "<style scoped>\n",
       "    .dataframe tbody tr th:only-of-type {\n",
       "        vertical-align: middle;\n",
       "    }\n",
       "\n",
       "    .dataframe tbody tr th {\n",
       "        vertical-align: top;\n",
       "    }\n",
       "\n",
       "    .dataframe thead th {\n",
       "        text-align: right;\n",
       "    }\n",
       "</style>\n",
       "<table border=\"1\" class=\"dataframe\">\n",
       "  <thead>\n",
       "    <tr style=\"text-align: right;\">\n",
       "      <th></th>\n",
       "      <th>country</th>\n",
       "      <th>event_cnt</th>\n",
       "    </tr>\n",
       "  </thead>\n",
       "  <tbody>\n",
       "    <tr>\n",
       "      <th>166</th>\n",
       "      <td>Saudi Arabia</td>\n",
       "      <td>28873</td>\n",
       "    </tr>\n",
       "    <tr>\n",
       "      <th>88</th>\n",
       "      <td>India</td>\n",
       "      <td>27286</td>\n",
       "    </tr>\n",
       "    <tr>\n",
       "      <th>201</th>\n",
       "      <td>United States</td>\n",
       "      <td>20839</td>\n",
       "    </tr>\n",
       "    <tr>\n",
       "      <th>65</th>\n",
       "      <td>France</td>\n",
       "      <td>9674</td>\n",
       "    </tr>\n",
       "    <tr>\n",
       "      <th>91</th>\n",
       "      <td>Iraq</td>\n",
       "      <td>4897</td>\n",
       "    </tr>\n",
       "    <tr>\n",
       "      <th>...</th>\n",
       "      <td>...</td>\n",
       "      <td>...</td>\n",
       "    </tr>\n",
       "    <tr>\n",
       "      <th>38</th>\n",
       "      <td>Central African Republic</td>\n",
       "      <td>1</td>\n",
       "    </tr>\n",
       "    <tr>\n",
       "      <th>206</th>\n",
       "      <td>Wallis and Futuna</td>\n",
       "      <td>1</td>\n",
       "    </tr>\n",
       "    <tr>\n",
       "      <th>155</th>\n",
       "      <td>Principality of Monaco</td>\n",
       "      <td>1</td>\n",
       "    </tr>\n",
       "    <tr>\n",
       "      <th>163</th>\n",
       "      <td>Saint Martin</td>\n",
       "      <td>1</td>\n",
       "    </tr>\n",
       "    <tr>\n",
       "      <th>175</th>\n",
       "      <td>Solomon Islands</td>\n",
       "      <td>1</td>\n",
       "    </tr>\n",
       "  </tbody>\n",
       "</table>\n",
       "<p>211 rows × 2 columns</p>\n",
       "</div>"
      ],
      "text/plain": [
       "                      country  event_cnt\n",
       "166              Saudi Arabia      28873\n",
       "88                      India      27286\n",
       "201             United States      20839\n",
       "65                     France       9674\n",
       "91                       Iraq       4897\n",
       "..                        ...        ...\n",
       "38   Central African Republic          1\n",
       "206         Wallis and Futuna          1\n",
       "155    Principality of Monaco          1\n",
       "163              Saint Martin          1\n",
       "175           Solomon Islands          1\n",
       "\n",
       "[211 rows x 2 columns]"
      ]
     },
     "execution_count": 155,
     "metadata": {},
     "output_type": "execute_result"
    }
   ],
   "source": [
    "# PANDAS\n",
    "print('Countries pageviews come from:')\n",
    "tmp = traffic[traffic.event=='pageview'].groupby(['country'], as_index=False).event.count()\\\n",
    "                                         .rename(columns = {'event':'event_cnt'})\\\n",
    "                                         .sort_values('event_cnt', ascending=False)\n",
    "tmp"
   ]
  },
  {
   "cell_type": "markdown",
   "id": "b5edbd4a",
   "metadata": {},
   "source": [
    "#### What was the overall click rate (clicks/pageviews)?"
   ]
  },
  {
   "cell_type": "code",
   "execution_count": 198,
   "id": "9c0f7a13",
   "metadata": {
    "scrolled": true
   },
   "outputs": [
    {
     "name": "stdout",
     "output_type": "stream",
     "text": [
      "Overall click rate:  39.24\n"
     ]
    }
   ],
   "source": [
    "# SQL \n",
    "\n",
    "sql = '''select round(\n",
    "                        count(case when event='click' then event else null end) *1.0 \n",
    "                        / count(case when event='pageview' then event else null end)\n",
    "                *100, 2) as click_rate \n",
    "          from events e  '''\n",
    "\n",
    "click_rate = select(sql).click_rate[0]\n",
    "print('Overall click rate: ', click_rate)"
   ]
  },
  {
   "cell_type": "code",
   "execution_count": 199,
   "id": "6f26e933",
   "metadata": {},
   "outputs": [
    {
     "name": "stdout",
     "output_type": "stream",
     "text": [
      "Overall click rate: 39.24\n"
     ]
    }
   ],
   "source": [
    "# PANDAS \n",
    "\n",
    "clicks = len(df[df['event'] == 'click'])\n",
    "pageviews = len(df[df['event'] == 'pageview'])\n",
    "\n",
    "click_rate = clicks / pageviews *100\n",
    "\n",
    "print(\"Overall click rate:\", np.round(click_rate,2))"
   ]
  },
  {
   "cell_type": "code",
   "execution_count": null,
   "id": "100d4f74",
   "metadata": {},
   "outputs": [],
   "source": []
  },
  {
   "cell_type": "markdown",
   "id": "fb0f7ce1",
   "metadata": {},
   "source": [
    "#### How does the clickrate distribute across different links?"
   ]
  },
  {
   "cell_type": "code",
   "execution_count": 377,
   "id": "488a9d68",
   "metadata": {},
   "outputs": [
    {
     "data": {
      "text/html": [
       "<div>\n",
       "<style scoped>\n",
       "    .dataframe tbody tr th:only-of-type {\n",
       "        vertical-align: middle;\n",
       "    }\n",
       "\n",
       "    .dataframe tbody tr th {\n",
       "        vertical-align: top;\n",
       "    }\n",
       "\n",
       "    .dataframe thead th {\n",
       "        text-align: right;\n",
       "    }\n",
       "</style>\n",
       "<table border=\"1\" class=\"dataframe\">\n",
       "  <thead>\n",
       "    <tr style=\"text-align: right;\">\n",
       "      <th></th>\n",
       "      <th>linkid</th>\n",
       "      <th>click</th>\n",
       "      <th>pageviews</th>\n",
       "      <th>click_rate</th>\n",
       "    </tr>\n",
       "  </thead>\n",
       "  <tbody>\n",
       "    <tr>\n",
       "      <th>0</th>\n",
       "      <td>00126b32-0c35-507b-981c-02c80d2aa8e7</td>\n",
       "      <td>2.0</td>\n",
       "      <td>2.0</td>\n",
       "      <td>100.0</td>\n",
       "    </tr>\n",
       "    <tr>\n",
       "      <th>1</th>\n",
       "      <td>004b9724-abca-5481-b6e9-6148a7ca00a5</td>\n",
       "      <td>1.0</td>\n",
       "      <td>1.0</td>\n",
       "      <td>100.0</td>\n",
       "    </tr>\n",
       "    <tr>\n",
       "      <th>2</th>\n",
       "      <td>0063a982-41cd-5629-96d0-e1c4dd72ea11</td>\n",
       "      <td>2.0</td>\n",
       "      <td>3.0</td>\n",
       "      <td>67.0</td>\n",
       "    </tr>\n",
       "    <tr>\n",
       "      <th>3</th>\n",
       "      <td>006af6a0-1f0d-4b0c-93bf-756af9071c06</td>\n",
       "      <td>8.0</td>\n",
       "      <td>36.0</td>\n",
       "      <td>22.0</td>\n",
       "    </tr>\n",
       "    <tr>\n",
       "      <th>4</th>\n",
       "      <td>00759b81-3f04-4a61-b934-f8fb3185f4a0</td>\n",
       "      <td>3.0</td>\n",
       "      <td>4.0</td>\n",
       "      <td>75.0</td>\n",
       "    </tr>\n",
       "    <tr>\n",
       "      <th>...</th>\n",
       "      <td>...</td>\n",
       "      <td>...</td>\n",
       "      <td>...</td>\n",
       "      <td>...</td>\n",
       "    </tr>\n",
       "    <tr>\n",
       "      <th>3834</th>\n",
       "      <td>ffaf4f1b-ae3a-5578-bbc2-a55379fed15d</td>\n",
       "      <td>NaN</td>\n",
       "      <td>3.0</td>\n",
       "      <td>NaN</td>\n",
       "    </tr>\n",
       "    <tr>\n",
       "      <th>3835</th>\n",
       "      <td>ffc3b266-3736-59d0-a665-8d3f7d7bb3dd</td>\n",
       "      <td>NaN</td>\n",
       "      <td>1.0</td>\n",
       "      <td>NaN</td>\n",
       "    </tr>\n",
       "    <tr>\n",
       "      <th>3836</th>\n",
       "      <td>ffe057fd-bc1b-5e12-bca2-7d2d2786facd</td>\n",
       "      <td>NaN</td>\n",
       "      <td>1.0</td>\n",
       "      <td>NaN</td>\n",
       "    </tr>\n",
       "    <tr>\n",
       "      <th>3837</th>\n",
       "      <td>ffeafbfb-28da-58a7-9933-d2204848c47c</td>\n",
       "      <td>NaN</td>\n",
       "      <td>1.0</td>\n",
       "      <td>NaN</td>\n",
       "    </tr>\n",
       "    <tr>\n",
       "      <th>3838</th>\n",
       "      <td>fff4e5f0-4ee5-5fe7-aa30-e870edaf6ed7</td>\n",
       "      <td>NaN</td>\n",
       "      <td>2.0</td>\n",
       "      <td>NaN</td>\n",
       "    </tr>\n",
       "  </tbody>\n",
       "</table>\n",
       "<p>3839 rows × 4 columns</p>\n",
       "</div>"
      ],
      "text/plain": [
       "                                    linkid  click  pageviews  click_rate\n",
       "0     00126b32-0c35-507b-981c-02c80d2aa8e7    2.0        2.0       100.0\n",
       "1     004b9724-abca-5481-b6e9-6148a7ca00a5    1.0        1.0       100.0\n",
       "2     0063a982-41cd-5629-96d0-e1c4dd72ea11    2.0        3.0        67.0\n",
       "3     006af6a0-1f0d-4b0c-93bf-756af9071c06    8.0       36.0        22.0\n",
       "4     00759b81-3f04-4a61-b934-f8fb3185f4a0    3.0        4.0        75.0\n",
       "...                                    ...    ...        ...         ...\n",
       "3834  ffaf4f1b-ae3a-5578-bbc2-a55379fed15d    NaN        3.0         NaN\n",
       "3835  ffc3b266-3736-59d0-a665-8d3f7d7bb3dd    NaN        1.0         NaN\n",
       "3836  ffe057fd-bc1b-5e12-bca2-7d2d2786facd    NaN        1.0         NaN\n",
       "3837  ffeafbfb-28da-58a7-9933-d2204848c47c    NaN        1.0         NaN\n",
       "3838  fff4e5f0-4ee5-5fe7-aa30-e870edaf6ed7    NaN        2.0         NaN\n",
       "\n",
       "[3839 rows x 4 columns]"
      ]
     },
     "execution_count": 377,
     "metadata": {},
     "output_type": "execute_result"
    }
   ],
   "source": [
    "# PANDAS \n",
    "\n",
    "clicks =traffic[traffic.event=='click'].groupby('linkid').size().reset_index()\\\n",
    "                                                                .rename(columns = {0:'click'}).fillna(0)\n",
    "pageviews =traffic[traffic.event=='pageview'].groupby('linkid').size().reset_index()\\\n",
    "                                                                      .rename(columns = {0:'pageviews'})\n",
    "\n",
    "click_rates = clicks.merge(pageviews, on='linkid', how='outer')#.fillna(0)\n",
    "click_rates['click_rate'] = round((click_rates.click /click_rates.pageviews)*100)\n",
    "click_rates"
   ]
  },
  {
   "cell_type": "code",
   "execution_count": 413,
   "id": "9e57bb4e",
   "metadata": {},
   "outputs": [
    {
     "data": {
      "text/plain": [
       "80.99067909454061"
      ]
     },
     "execution_count": 413,
     "metadata": {},
     "output_type": "execute_result"
    }
   ],
   "source": [
    "click_rates['click_rate'].mean()"
   ]
  },
  {
   "cell_type": "code",
   "execution_count": 379,
   "id": "a5634dca",
   "metadata": {
    "scrolled": true
   },
   "outputs": [
    {
     "data": {
      "text/plain": [
       "array([[<AxesSubplot:title={'center':'click_rate'}>]], dtype=object)"
      ]
     },
     "execution_count": 379,
     "metadata": {},
     "output_type": "execute_result"
    },
    {
     "data": {
      "image/png": "[encoded data removed]",
      "text/plain": [
       "<Figure size 432x216 with 1 Axes>"
      ]
     },
     "metadata": {
      "needs_background": "light"
     },
     "output_type": "display_data"
    }
   ],
   "source": [
    "plt.rcParams[\"figure.figsize\"] = (6,3)\n",
    "click_rates[['linkid','click_rate']].hist()"
   ]
  },
  {
   "cell_type": "code",
   "execution_count": 380,
   "id": "904a7978",
   "metadata": {},
   "outputs": [
    {
     "data": {
      "text/plain": [
       "count    2253.000000\n",
       "mean       80.990679\n",
       "std       195.805020\n",
       "min         9.000000\n",
       "25%        50.000000\n",
       "50%       100.000000\n",
       "75%       100.000000\n",
       "max      9230.000000\n",
       "Name: click_rate, dtype: float64"
      ]
     },
     "execution_count": 380,
     "metadata": {},
     "output_type": "execute_result"
    }
   ],
   "source": [
    "click_rates.click_rate.describe()"
   ]
  },
  {
   "cell_type": "code",
   "execution_count": 355,
   "id": "6ac09aee",
   "metadata": {},
   "outputs": [
    {
     "data": {
      "text/plain": [
       "array([[<AxesSubplot:title={'center':'click_rate'}>]], dtype=object)"
      ]
     },
     "execution_count": 355,
     "metadata": {},
     "output_type": "execute_result"
    },
    {
     "data": {
      "image/png": "[encoded data removed]",
      "text/plain": [
       "<Figure size 432x216 with 1 Axes>"
      ]
     },
     "metadata": {
      "needs_background": "light"
     },
     "output_type": "display_data"
    }
   ],
   "source": [
    "# removing outliers click rate value, distribution \n",
    "click_rates[click_rates.click_rate <= click_rates.click_rate.quantile(0.75)].hist()"
   ]
  },
  {
   "cell_type": "code",
   "execution_count": 381,
   "id": "a8e03283",
   "metadata": {},
   "outputs": [
    {
     "data": {
      "text/plain": [
       "100.0     1157\n",
       "50.0       321\n",
       "33.0       106\n",
       "67.0        73\n",
       "200.0       38\n",
       "          ... \n",
       "73.0         1\n",
       "86.0         1\n",
       "61.0         1\n",
       "167.0        1\n",
       "9230.0       1\n",
       "Name: click_rate, Length: 75, dtype: int64"
      ]
     },
     "execution_count": 381,
     "metadata": {},
     "output_type": "execute_result"
    }
   ],
   "source": [
    "click_rates.click_rate.value_counts()"
   ]
  },
  {
   "cell_type": "code",
   "execution_count": 384,
   "id": "e2d3de10",
   "metadata": {},
   "outputs": [
    {
     "data": {
      "text/plain": [
       "Text(0, 0.5, 'Link ID counts')"
      ]
     },
     "execution_count": 384,
     "metadata": {},
     "output_type": "execute_result"
    },
    {
     "data": {
      "image/png": "[encoded data removed]",
      "text/plain": [
       "<Figure size 1440x720 with 1 Axes>"
      ]
     },
     "metadata": {
      "needs_background": "light"
     },
     "output_type": "display_data"
    }
   ],
   "source": [
    "plt.rcParams[\"figure.figsize\"] = (20,10)\n",
    "click_rates[click_rates.click_rate <= click_rates.click_rate.quantile(0.75)].click_rate.value_counts()\\\n",
    "                                                                            .plot(kind='bar')\n",
    "\n",
    "plt.title('Click Rate by value counts without outliers')\n",
    "plt.xlabel('Click Rates')\n",
    "plt.ylabel('Link ID counts')"
   ]
  },
  {
   "cell_type": "code",
   "execution_count": 410,
   "id": "de3e19b6",
   "metadata": {},
   "outputs": [],
   "source": []
  },
  {
   "cell_type": "markdown",
   "id": "e4264f6b",
   "metadata": {},
   "source": [
    "\n",
    "### <a href=\"https://public.tableau.com/app/profile/amina.doszhan/viz/web_traffics_data/mainpage\">Dashboard (talbleau)</a>\n",
    "<br>\n",
    "\n",
    "### <a href=\"https://docs.google.com/presentation/d/1CLKQAPqC3AH-1GoVH1H1NVgpVykv8CvklTSNMECC0g0/edit?usp=sharing\">Presentaion (google)</a>\n"
   ]
  },
  {
   "cell_type": "code",
   "execution_count": null,
   "id": "77939568",
   "metadata": {},
   "outputs": [],
   "source": []
  }
 ],
 "metadata": {
  "kernelspec": {
   "display_name": "Python 3 (ipykernel)",
   "language": "python",
   "name": "python3"
  },
  "language_info": {
   "codemirror_mode": {
    "name": "ipython",
    "version": 3
   },
   "file_extension": ".py",
   "mimetype": "text/x-python",
   "name": "python",
   "nbconvert_exporter": "python",
   "pygments_lexer": "ipython3",
   "version": "3.8.10"
  }
 },
 "nbformat": 4,
 "nbformat_minor": 5
}
